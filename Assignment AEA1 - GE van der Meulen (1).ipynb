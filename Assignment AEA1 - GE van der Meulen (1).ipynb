{
 "cells": [
  {
   "cell_type": "markdown",
   "metadata": {},
   "source": [
    "# Applied Economic Analysis 1\n",
    "## Python Assignment\n",
    "\n",
    "|Name|examnr.|\n",
    "|----|-------|\n",
    "|GE van der Meulen|532882|"
   ]
  },
  {
   "cell_type": "markdown",
   "metadata": {},
   "source": [
    "# Educational attainment as a determinant of income inequality"
   ]
  },
  {
   "cell_type": "markdown",
   "metadata": {},
   "source": [
    "# 1. Introduction"
   ]
  },
  {
   "cell_type": "markdown",
   "metadata": {},
   "source": [
    "Income inequality is likely to be the most debated topic in the economic literature in the past decade. Following the financial and subsequent sovereign debt crises, the 2010s will especially in Europe be remembered for a deep and long economic recession and the subsequent rise op populism. Income inequality has been rising in the last 3 decades in most developed countries, and has been frequently pointed to as one of the causes of the financial crisis (Rajan, 2010; Kumhof and Rancière, 2011). \n",
    "Research of Piketty (2015) gained considerable media attention, but was part of a broad range of publications in the early 2010s about income inequality.\n",
    "\n",
    "Research on the determinants of income inequality is relatively limited. On the one hand, this is easy to explain as income inequality mainly stems from cultural preferences and political choices. However, the rise in income inequality relative to the last 3 centuries cannot only be explained by political choices. In his work, Piketty argues that \"the rise in top income shares in the US over the 1980-2010 period is due for the most part to rising inequality of labor earnings\", in turn mostly related to the supply and demand of skills and education. The role of education in the development of income inequality is central in my project.\n",
    "\n",
    "Kuznets (1955) famously adressed the relationship between income per capita and income inequality. The \"Kuznets curve\" describes the inverse U-curve effect that income has on income inequality. At low levels of income, inequality increases when countries get wealthier, but this effect slowly diminishes until becoming negative after a certain treshold.\n",
    "\n",
    "Many scholars have applied empirical studies to this theory, finding substantial evidence for it (Ahluwalia, 1976; Nielsen and Alderson, 1997). These studies also show that the declining section of the Kuznets curve starts around 1970. Since the data in my study is almost entirely composed of observations after 1970, I expect a negative relation between income inequality and income per capita. \n",
    "\n",
    "The relationship between education and income differences has also been studied by the literature. Escpecially Mincer (1958) can be considered as one of the fathers of this topic. Generally speaking, education is seen as a powerful instrument for reducing income inequality for the following reasons. First, education is a fundamental determinant for future income. As a broader share of society can access high education, future differences in income are reduced. This is particularly true if higher educational attainment figures arise because of the low income groups accessing education on a broader scale. Access to education is also likely to increase income mobility, which in turn would dampen income inequality in the long run. Third, higher levels of educational attainment mean higher educated democracies, less subject to lobbying activities of the rich, increasing social and job opportunities of the poor.\n",
    "\n",
    "\n",
    "In this project, in section 2 I will first present the main features of the model of Mincer (1958), and will then build on this model to look at the intraction between income inequality and educational attainment. In section 3 I will empirically study the relationship between income inequality and educational attainment. I will first show graphical evidence of this relationship, and follow with some OLS estimations. Section 4 will conclude with some final considerations."
   ]
  },
  {
   "cell_type": "code",
   "execution_count": 5,
   "metadata": {},
   "outputs": [],
   "source": [
    "import pandas as pd\n",
    "import numpy as np\n",
    "import pymc3 as pm\n",
    "import matplotlib.pyplot as plt\n",
    "import seaborn as sns\n",
    "from scipy.stats import *\n",
    "import random\n",
    "import wbdata as wb\n",
    "import pylab"
   ]
  },
  {
   "cell_type": "markdown",
   "metadata": {},
   "source": [
    "\n",
    "\n",
    "# 2.  A model for education and income inequality\n",
    "## 2.1 The Mincer Model"
   ]
  },
  {
   "cell_type": "markdown",
   "metadata": {},
   "source": [
    "The assumptions of the model as described in Mincer (1958) are the following.\n",
    "\n",
    "-  The occupation level of a worker depends on the amount of years $n$ of education. \n",
    "-  The quality of performance on the job is a function of formal training plus experience, both measured in time units.\n",
    "\n",
    "According to observational data, this slope will be higher in jobs with higher levels of skill and complexity. Moreover, more capable and educated individuals tend to grow faster and longer than others in the performance of the same task. These findings suggest that experience influences productivity more strongly in jobs that normally require more training. In brief, differences in training result in differences in levels of earnings among occupations, as well as in differences in slopes of life-paths of earnings among occupations. The higher the occupational rank, the higher the level of earnings and the steeper the life-path of earnings. \n",
    "\n",
    "An implication of the above described situation is that the income differences corresponding to different occupational categories increase with age. \n",
    "\n",
    "For convenience, we divide the labor force into two broad groups of occupations, those requiring very little education, and those requiring a considerable amount of education. "
   ]
  },
  {
   "cell_type": "code",
   "execution_count": 6,
   "metadata": {},
   "outputs": [],
   "source": [
    "age = np.arange(15,65,0.1) #I assume that the labor force is aged between 15 and 64 years\n",
    "def earnings_noedu(age): #Mincer equation for the non-educated\n",
    "    return 1.5+0.01*age\n",
    "def earnings_edu(age): #Mincer equation for the Educated\n",
    "    return -3+0.15*age"
   ]
  },
  {
   "cell_type": "code",
   "execution_count": 7,
   "metadata": {},
   "outputs": [
    {
     "data": {
      "image/png": "[encoded data removed]",
      "text/plain": [
       "<matplotlib.figure.Figure at 0x7f7d85c65748>"
      ]
     },
     "metadata": {},
     "output_type": "display_data"
    }
   ],
   "source": [
    "plt.rcdefaults()\n",
    "plt.plot(age,[earnings_noedu(age) for age in age], label = 'Non-educated')\n",
    "plt.plot(age,[earnings_edu(age) for age in age], label = 'Educated')\n",
    "plt.legend()\n",
    "plt.xlabel('Age')\n",
    "plt.ylabel('Annual earnings')\n",
    "plt.title('Figure 1 . Annual earnings per age and education')\n",
    "axes = plt.gca()\n",
    "plt.show()"
   ]
  },
  {
   "cell_type": "markdown",
   "metadata": {},
   "source": [
    "Figure 1 shows the earnings per age for two different education levels. The earnings for the non-educated group start at a positive value already at age 15, but increase slowly over time. The educated start with negative income, as they invest money for their education, and start earning positive amounts around their 20th birthday. First, we note that absolute differences in earnings are small within non-educated groups, but are pronounced in the educated group. \n",
    "Second, the differences in earnings between the two occupational groups increase as we move from a younger to an older occupation-mix. \n",
    "\n",
    "At this point Mincer (1958) discusses other issues that are not really relevant for the purpose of this project. Therefore, I start from this basic setup to discuss how education and income inequality are related in a way that allows me to better apply the Python skills learned during the past semester."
   ]
  },
  {
   "cell_type": "markdown",
   "metadata": {},
   "source": [
    "## 2.2 Modelling (continued)"
   ]
  },
  {
   "cell_type": "markdown",
   "metadata": {},
   "source": [
    "I will build on the basic Mincer model to show how educational attainment can affect income inequality. \n",
    "\n",
    "I first define the number of workers in the labor market, i.e. the labor force. \n",
    "\n",
    "Then I have to make an assumption about how this labor force is divided between educated and non-educated workers. In the following example I split them in two equal groups, i.e. 50% each. \n",
    "\n",
    "I also assume that the population is equally distributed among different ages, so that there will be the same number of individuals for every age between 15 and 64."
   ]
  },
  {
   "cell_type": "code",
   "execution_count": 8,
   "metadata": {},
   "outputs": [],
   "source": [
    "labor_force = 10000 # Assume a labor force of 10000 individuals\n",
    "# assume that 50% of the workers is educated, and 50% is not\n",
    "share_edu = 0.5\n",
    "edu = share_edu*labor_force\n",
    "non_edu = labor_force-edu\n",
    "# assuming the labor force is equally distributed among ages, we can define the number of individuals for every age as\n",
    "non_edu_per_age = int(non_edu/50) #since between 15 and 64 there are 50 years, I divide by 50\n",
    "edu_per_age = int(edu/50)\n",
    "#age of each individual in both groups:\n",
    "age_in_non_edu = np.concatenate([age]*non_edu_per_age)\n",
    "age_in_edu = np.concatenate([age]*edu_per_age)"
   ]
  },
  {
   "cell_type": "code",
   "execution_count": 9,
   "metadata": {},
   "outputs": [],
   "source": [
    "# wih a for loop, I create a new list where I add all the earnings based on the Mincer equations above\n",
    "income_i = []\n",
    "for x in age_in_non_edu:\n",
    "    income_i.append(earnings_noedu(x))\n",
    "for x in age_in_edu:\n",
    "    income_i.append(earnings_edu(x))"
   ]
  },
  {
   "cell_type": "code",
   "execution_count": 10,
   "metadata": {
    "scrolled": false
   },
   "outputs": [
    {
     "data": {
      "image/png": "[encoded data removed]",
      "text/plain": [
       "<matplotlib.figure.Figure at 0x7f7d85d60940>"
      ]
     },
     "metadata": {},
     "output_type": "display_data"
    }
   ],
   "source": [
    "plt.hist(income_i, bins=30) # plot the distribution of incomes\n",
    "plt.title('Figure 2. Distribution of earnings among labor force')\n",
    "plt.ylabel('Number of workers')\n",
    "plt.show()"
   ]
  },
  {
   "cell_type": "markdown",
   "metadata": {},
   "source": [
    "Figure 2 depicts the distribution of annual earnings when the share of educated workers is 50%. As can be seen, the Kurtosis is very high. This is due to the fact that the non educated group all have very similar earnings. The tails of this distribution are not decreasing, which is due to the fact that all incomes enter with the same frequency.\n",
    "\n",
    "I want to compute the Gini coefficient for this labor market. "
   ]
  },
  {
   "cell_type": "code",
   "execution_count": 11,
   "metadata": {},
   "outputs": [
    {
     "name": "stdout",
     "output_type": "stream",
     "text": [
      "The Gini coefficient for an economy with 50% educated workers is 0.34\n"
     ]
    }
   ],
   "source": [
    "# Now I look at the Gini coefficient for this labor force\n",
    "def gini(list_of_values): # define a new function that computes Gini coefficient\n",
    "    sorted_list = sorted(list_of_values) # first sort the values in ascending order\n",
    "    height, area = 0, 0 # define height and area\n",
    "    for value in sorted_list: \n",
    "        height += value #in each loop sum up another value in the list\n",
    "        area += height - value / 2. # make the area between 45% and Lorenz curve\n",
    "    fair_area = height * len(list_of_values) / 2. #make the total triangle\n",
    "    return (fair_area - area) / fair_area # compute gini\n",
    "print('The Gini coefficient for an economy with 50% educated workers is ' + \"%.2f\" % gini(income_i))"
   ]
  },
  {
   "cell_type": "markdown",
   "metadata": {},
   "source": [
    "This number is actually very comparable to the Gini coefficient of several delevoped countries nowadays. \n",
    "\n",
    "Eventually, we want to study the relationship between educational attainment and income inequality. To do this, we look at how the Gini coefficient changes with different shares of educated workers in the labor force.\n",
    "As such, I compute the Gini coefficient for every combination of educated and non educated in the labor force. \n",
    "These combinations are as follows\n",
    "\n",
    "\n",
    "|Educated (%)|Non educated (%)|\n",
    "|----|-------|\n",
    "|10|90|\n",
    "|20|80|\n",
    "|30|70|\n",
    "|40|60|\n",
    "|50|50|\n",
    "|60|40|\n",
    "|70|30|\n",
    "|80|20|\n",
    "|90|10|\n",
    "\n",
    "Once I compute the respective Gini coefficients, I will plot them all together to show how educational attainment and income inequality relate to eachother in the model. "
   ]
  },
  {
   "cell_type": "code",
   "execution_count": 12,
   "metadata": {},
   "outputs": [],
   "source": [
    "# we define the number of educated workers as a share of the labor market\n",
    "share_edu = [0.1,0.2,0.3,0.4,0.5,0.6,0.7,0.8,0.9]\n",
    "gini_results = [] # create a list of gini coefficients\n",
    "for x in share_edu: \n",
    "    edu = x*labor_force\n",
    "    non_edu = (1-x)*labor_force\n",
    "    # assuming the labor force is equally distributed among ages\n",
    "    non_edu_per_age = int(non_edu/50)\n",
    "    edu_per_age = int(edu/50)\n",
    "    #age of individuals in each group:\n",
    "    age_in_non_edu = np.concatenate([age]*non_edu_per_age)\n",
    "    age_in_edu = np.concatenate([age]*edu_per_age)\n",
    "    #now we define a function for annual earnings per worker\n",
    "    income_i = []\n",
    "    for x in age_in_non_edu:\n",
    "        income_i.append(earnings_noedu(x))\n",
    "    for x in age_in_edu:\n",
    "        income_i.append(earnings_edu(x))\n",
    "    gini_results.append(gini(income_i)) # for every combination of educated and non educated, compute the Gini coefficient and store it in \"Gini_results\""
   ]
  },
  {
   "cell_type": "code",
   "execution_count": 13,
   "metadata": {},
   "outputs": [
    {
     "data": {
      "image/png": "[encoded data removed]",
      "text/plain": [
       "<matplotlib.figure.Figure at 0x7f7d85cb3898>"
      ]
     },
     "metadata": {},
     "output_type": "display_data"
    }
   ],
   "source": [
    "fig, ax = plt.subplots()\n",
    "ax.barh(range(len(gini_results)), gini_results, align='center', color='green', ecolor='black')\n",
    "ax.set_yticks(range(len(share_edu)))\n",
    "ax.set_yticklabels(share_edu)              \n",
    "ax.set_xlabel('Gini')\n",
    "ax.set_ylabel('Share of educated workers over labor force')\n",
    "ax.set_title('Figure 3. Gini for different levels of educational attainment')\n",
    "\n",
    "plt.show()"
   ]
  },
  {
   "cell_type": "markdown",
   "metadata": {},
   "source": [
    "Figure 3 depicts the level of income inequality of a labor market with different levels of educational attainment. My model predicts that higher educational attainment will lead to higher levels of inequality. This is not in line with empirical research and is also counterintuitive. \n",
    "\n",
    "Income inequality increases with educational attainment because the educated worker has a very large variance in earnings during his career, whereas the non-educated do not increase their earnings by much with age. This effect is much bigger with respect to the dampening effect on income inequality due to the fact that more workers become subject to the same earnings function. In fact, several forces in the real labor market are not considered in my simple model:\n",
    "-   The model is not dynamic, meaning that the labor market does not adjust the wages for different education levels. What we would expect to happen in realtity is that as the number of educated workers in the market rises, their wage premium will decrease. This would lead to a decrease in income inequality.\n",
    "-   The assumption that the population is homogeneously divided among age, does not respect reality. If I would make the model more realistic (as to reflect the current labor markets in most developed economies), I would increase the number of old workers with respect to the young workers. Looking at the extreme case, where all workers would be 50 years or older, an increase in educational attainment would increase income inequality until the educated workers would be less then 50%, and after this threshold income inequality would start decreasing again.\n",
    "\n",
    "The second point could actually be an interesting topic for future research, in an attempt to explain the increased income inequality in the last decades. The fact that a rise in income inequality and ageing in the labor market are positively correlated for the last decades, could maybe be explained by expanding my model. \n",
    "\n",
    "I now turn to look at how income inequality and educational attainment correlate in observational data.\n",
    "\n",
    "\n"
   ]
  },
  {
   "cell_type": "markdown",
   "metadata": {},
   "source": [
    "# 3. Empirical Analysis"
   ]
  },
  {
   "cell_type": "markdown",
   "metadata": {},
   "source": [
    "## 3.1 Data"
   ]
  },
  {
   "cell_type": "markdown",
   "metadata": {},
   "source": [
    "I search for data on gdp per capita, income inequality and educational attainment on the World Bank API."
   ]
  },
  {
   "cell_type": "code",
   "execution_count": 14,
   "metadata": {
    "scrolled": true
   },
   "outputs": [],
   "source": [
    "%%capture\n",
    "wb.search_indicators(\"gini index\")"
   ]
  },
  {
   "cell_type": "code",
   "execution_count": 15,
   "metadata": {},
   "outputs": [],
   "source": [
    "%%capture\n",
    "wb.search_indicators(\"tertiary\")"
   ]
  },
  {
   "cell_type": "code",
   "execution_count": null,
   "metadata": {},
   "outputs": [],
   "source": [
    "%%capture\n",
    "wb.search_indicators(\"gdp per capita\")"
   ]
  },
  {
   "cell_type": "markdown",
   "metadata": {},
   "source": [
    "As an indicator of educational attainment, I have tried several variables but a lot of them lack a satisfying number of observations. The Barro-Lee average years of tertiary schooling indicator is the most useful in this sense. \n",
    "\n",
    "I now create a dataset with these indicators."
   ]
  },
  {
   "cell_type": "code",
   "execution_count": 6,
   "metadata": {},
   "outputs": [],
   "source": [
    "indicators = {\"SI.POV.GINI\": \"inc_ineq\", \"BAR.TER.SCHL.15UP\": \"ed_att\", \"NY.GDP.PCAP.CD\": \"GDP_capita\"}\n",
    "df_wb = wb.get_dataframe(indicators, convert_date=True)"
   ]
  },
  {
   "cell_type": "markdown",
   "metadata": {},
   "source": [
    "This is how the first 5 lines of my dataset look like:"
   ]
  },
  {
   "cell_type": "code",
   "execution_count": 7,
   "metadata": {},
   "outputs": [
    {
     "data": {
      "text/html": [
       "<div>\n",
       "<style scoped>\n",
       "    .dataframe tbody tr th:only-of-type {\n",
       "        vertical-align: middle;\n",
       "    }\n",
       "\n",
       "    .dataframe tbody tr th {\n",
       "        vertical-align: top;\n",
       "    }\n",
       "\n",
       "    .dataframe thead th {\n",
       "        text-align: right;\n",
       "    }\n",
       "</style>\n",
       "<table border=\"1\" class=\"dataframe\">\n",
       "  <thead>\n",
       "    <tr style=\"text-align: right;\">\n",
       "      <th></th>\n",
       "      <th>country</th>\n",
       "      <th>date</th>\n",
       "      <th>GDP_capita</th>\n",
       "      <th>ed_att</th>\n",
       "      <th>inc_ineq</th>\n",
       "    </tr>\n",
       "  </thead>\n",
       "  <tbody>\n",
       "    <tr>\n",
       "      <th>0</th>\n",
       "      <td>Afghanistan</td>\n",
       "      <td>1960-01-01</td>\n",
       "      <td>59.777327</td>\n",
       "      <td>NaN</td>\n",
       "      <td>NaN</td>\n",
       "    </tr>\n",
       "    <tr>\n",
       "      <th>1</th>\n",
       "      <td>Afghanistan</td>\n",
       "      <td>1961-01-01</td>\n",
       "      <td>59.878153</td>\n",
       "      <td>NaN</td>\n",
       "      <td>NaN</td>\n",
       "    </tr>\n",
       "    <tr>\n",
       "      <th>2</th>\n",
       "      <td>Afghanistan</td>\n",
       "      <td>1962-01-01</td>\n",
       "      <td>58.492874</td>\n",
       "      <td>NaN</td>\n",
       "      <td>NaN</td>\n",
       "    </tr>\n",
       "    <tr>\n",
       "      <th>3</th>\n",
       "      <td>Afghanistan</td>\n",
       "      <td>1963-01-01</td>\n",
       "      <td>78.782758</td>\n",
       "      <td>NaN</td>\n",
       "      <td>NaN</td>\n",
       "    </tr>\n",
       "    <tr>\n",
       "      <th>4</th>\n",
       "      <td>Afghanistan</td>\n",
       "      <td>1964-01-01</td>\n",
       "      <td>82.208444</td>\n",
       "      <td>NaN</td>\n",
       "      <td>NaN</td>\n",
       "    </tr>\n",
       "  </tbody>\n",
       "</table>\n",
       "</div>"
      ],
      "text/plain": [
       "       country       date  GDP_capita  ed_att  inc_ineq\n",
       "0  Afghanistan 1960-01-01   59.777327     NaN       NaN\n",
       "1  Afghanistan 1961-01-01   59.878153     NaN       NaN\n",
       "2  Afghanistan 1962-01-01   58.492874     NaN       NaN\n",
       "3  Afghanistan 1963-01-01   78.782758     NaN       NaN\n",
       "4  Afghanistan 1964-01-01   82.208444     NaN       NaN"
      ]
     },
     "execution_count": 7,
     "metadata": {},
     "output_type": "execute_result"
    }
   ],
   "source": [
    "df_wb.reset_index(inplace = True)\n",
    "df_wb['date'] = pd.to_datetime(df_wb['date'])\n",
    "df_wb.head()"
   ]
  },
  {
   "cell_type": "markdown",
   "metadata": {},
   "source": [
    "To check how many observations I have approximately per country, and which years are the most useful, I build a seperate dataframe for Germany. I print the entire dataframe to be able to take a glance at every single row."
   ]
  },
  {
   "cell_type": "code",
   "execution_count": 8,
   "metadata": {},
   "outputs": [],
   "source": [
    "df_Germany = df_wb[df_wb['country']=='Germany']"
   ]
  },
  {
   "cell_type": "code",
   "execution_count": 9,
   "metadata": {
    "scrolled": false
   },
   "outputs": [
    {
     "name": "stdout",
     "output_type": "stream",
     "text": [
      "      country       date    GDP_capita  ed_att  inc_ineq\n",
      "6536  Germany 1960-01-01           NaN     NaN       NaN\n",
      "6537  Germany 1961-01-01           NaN     NaN       NaN\n",
      "6538  Germany 1962-01-01           NaN     NaN       NaN\n",
      "6539  Germany 1963-01-01           NaN     NaN       NaN\n",
      "6540  Germany 1964-01-01           NaN     NaN       NaN\n",
      "6541  Germany 1965-01-01           NaN     NaN       NaN\n",
      "6542  Germany 1966-01-01           NaN     NaN       NaN\n",
      "6543  Germany 1967-01-01           NaN     NaN       NaN\n",
      "6544  Germany 1968-01-01           NaN     NaN       NaN\n",
      "6545  Germany 1969-01-01           NaN     NaN       NaN\n",
      "6546  Germany 1970-01-01   2750.719742    0.09       NaN\n",
      "6547  Germany 1971-01-01   3180.055927     NaN       NaN\n",
      "6548  Germany 1972-01-01   3795.566081     NaN       NaN\n",
      "6549  Germany 1973-01-01   5027.660309     NaN       NaN\n",
      "6550  Germany 1974-01-01   5617.741721     NaN       NaN\n",
      "6551  Germany 1975-01-01   6212.763127    0.15       NaN\n",
      "6552  Germany 1976-01-01   6609.753392     NaN       NaN\n",
      "6553  Germany 1977-01-01   7653.884711     NaN       NaN\n",
      "6554  Germany 1978-01-01   9446.166785     NaN       NaN\n",
      "6555  Germany 1979-01-01  11238.340675     NaN       NaN\n",
      "6556  Germany 1980-01-01  12092.381854    0.18       NaN\n",
      "6557  Germany 1981-01-01  10170.446275     NaN       NaN\n",
      "6558  Germany 1982-01-01   9876.228232     NaN       NaN\n",
      "6559  Germany 1983-01-01   9827.022409     NaN       NaN\n",
      "6560  Germany 1984-01-01   9277.932299     NaN       NaN\n",
      "6561  Germany 1985-01-01   9393.891691    0.20       NaN\n",
      "6562  Germany 1986-01-01  13410.897100     NaN       NaN\n",
      "6563  Germany 1987-01-01  16614.410104     NaN       NaN\n",
      "6564  Germany 1988-01-01  17863.437897     NaN       NaN\n",
      "6565  Germany 1989-01-01  17697.163514     NaN       NaN\n",
      "...       ...        ...           ...     ...       ...\n",
      "6582  Germany 2006-01-01  36447.872318     NaN      31.3\n",
      "6583  Germany 2007-01-01  41814.819097     NaN      31.3\n",
      "6584  Germany 2008-01-01  45699.198323     NaN       NaN\n",
      "6585  Germany 2009-01-01  41732.707253     NaN       NaN\n",
      "6586  Germany 2010-01-01  41785.556913    0.69      30.2\n",
      "6587  Germany 2011-01-01  46810.327959     NaN      30.5\n",
      "6588  Germany 2012-01-01  44065.248908     NaN       NaN\n",
      "6589  Germany 2013-01-01  46530.911428     NaN      31.1\n",
      "6590  Germany 2014-01-01  48042.563435     NaN       NaN\n",
      "6591  Germany 2015-01-01  41323.921502     NaN      31.7\n",
      "6592  Germany 2016-01-01  42232.574208     NaN       NaN\n",
      "6593  Germany 2017-01-01  44469.909061     NaN       NaN\n",
      "6594  Germany 2018-01-01           NaN     NaN       NaN\n",
      "6595  Germany 2020-01-01           NaN     NaN       NaN\n",
      "6596  Germany 2025-01-01           NaN     NaN       NaN\n",
      "6597  Germany 2030-01-01           NaN     NaN       NaN\n",
      "6598  Germany 2035-01-01           NaN     NaN       NaN\n",
      "6599  Germany 2040-01-01           NaN     NaN       NaN\n",
      "6600  Germany 2045-01-01           NaN     NaN       NaN\n",
      "6601  Germany 2050-01-01           NaN     NaN       NaN\n",
      "6602  Germany 2055-01-01           NaN     NaN       NaN\n",
      "6603  Germany 2060-01-01           NaN     NaN       NaN\n",
      "6604  Germany 2065-01-01           NaN     NaN       NaN\n",
      "6605  Germany 2070-01-01           NaN     NaN       NaN\n",
      "6606  Germany 2075-01-01           NaN     NaN       NaN\n",
      "6607  Germany 2080-01-01           NaN     NaN       NaN\n",
      "6608  Germany 2085-01-01           NaN     NaN       NaN\n",
      "6609  Germany 2090-01-01           NaN     NaN       NaN\n",
      "6610  Germany 2095-01-01           NaN     NaN       NaN\n",
      "6611  Germany 2100-01-01           NaN     NaN       NaN\n",
      "\n",
      "[76 rows x 5 columns]\n"
     ]
    }
   ],
   "source": [
    "print(df_Germany)"
   ]
  },
  {
   "cell_type": "markdown",
   "metadata": {},
   "source": [
    "The dataset still contains a large number of NaNs. For my data analysis it is important that to have a dataset with observations for every row. Let's check which rows contain observations for each variable. "
   ]
  },
  {
   "cell_type": "code",
   "execution_count": 10,
   "metadata": {},
   "outputs": [
    {
     "name": "stderr",
     "output_type": "stream",
     "text": [
      "/usr/local/lib/python3.5/dist-packages/ipykernel_launcher.py:1: SettingWithCopyWarning: \n",
      "A value is trying to be set on a copy of a slice from a DataFrame\n",
      "\n",
      "See the caveats in the documentation: http://pandas.pydata.org/pandas-docs/stable/indexing.html#indexing-view-versus-copy\n",
      "  \"\"\"Entry point for launching an IPython kernel.\n"
     ]
    },
    {
     "data": {
      "text/html": [
       "<div>\n",
       "<style scoped>\n",
       "    .dataframe tbody tr th:only-of-type {\n",
       "        vertical-align: middle;\n",
       "    }\n",
       "\n",
       "    .dataframe tbody tr th {\n",
       "        vertical-align: top;\n",
       "    }\n",
       "\n",
       "    .dataframe thead th {\n",
       "        text-align: right;\n",
       "    }\n",
       "</style>\n",
       "<table border=\"1\" class=\"dataframe\">\n",
       "  <thead>\n",
       "    <tr style=\"text-align: right;\">\n",
       "      <th></th>\n",
       "      <th>country</th>\n",
       "      <th>date</th>\n",
       "      <th>GDP_capita</th>\n",
       "      <th>ed_att</th>\n",
       "      <th>inc_ineq</th>\n",
       "    </tr>\n",
       "  </thead>\n",
       "  <tbody>\n",
       "    <tr>\n",
       "      <th>6576</th>\n",
       "      <td>Germany</td>\n",
       "      <td>2000-01-01</td>\n",
       "      <td>23718.746699</td>\n",
       "      <td>0.56</td>\n",
       "      <td>28.8</td>\n",
       "    </tr>\n",
       "    <tr>\n",
       "      <th>6586</th>\n",
       "      <td>Germany</td>\n",
       "      <td>2010-01-01</td>\n",
       "      <td>41785.556913</td>\n",
       "      <td>0.69</td>\n",
       "      <td>30.2</td>\n",
       "    </tr>\n",
       "  </tbody>\n",
       "</table>\n",
       "</div>"
      ],
      "text/plain": [
       "      country       date    GDP_capita  ed_att  inc_ineq\n",
       "6576  Germany 2000-01-01  23718.746699    0.56      28.8\n",
       "6586  Germany 2010-01-01  41785.556913    0.69      30.2"
      ]
     },
     "execution_count": 10,
     "metadata": {},
     "output_type": "execute_result"
    }
   ],
   "source": [
    "df_Germany.dropna(how='any', inplace=True)\n",
    "df_Germany.head()"
   ]
  },
  {
   "cell_type": "markdown",
   "metadata": {},
   "source": [
    "As can be seen, there are only two years where all 3 variables have observations: 2000 and 2010. This will become useful in a later stage of the project. "
   ]
  },
  {
   "cell_type": "markdown",
   "metadata": {},
   "source": [
    "## 3.2 Graphical analysis"
   ]
  },
  {
   "cell_type": "markdown",
   "metadata": {},
   "source": [
    "At this point I want to see if educational attainment and income inequality are somehow related. To do this, based on the results in the dataframe of Germany, I build seperate dataframes for specific years. "
   ]
  },
  {
   "cell_type": "code",
   "execution_count": 11,
   "metadata": {},
   "outputs": [],
   "source": [
    "df_1970 = df_wb[df_wb['date']=='1970']\n",
    "df_1985 = df_wb[df_wb['date']=='1985']\n",
    "df_2010 = df_wb[df_wb['date']=='2010']"
   ]
  },
  {
   "cell_type": "markdown",
   "metadata": {},
   "source": [
    "Note that most scholars studying the relationship between income inequality and educational attainment use data of similar years (see for example Park, 1996). However, assuming that educational attainment is a predictor of income inequality, it might particularly be so for lagged values of educational attainment. The reasoning is that cohorts facing certain possibilities and constraints in their education, will be at the center of their working life only 20 years later. With the same reasoning, specific cohorts will not be relevant for the income inequality in years they are still in education, as they are expected to not have an income. \n",
    "One could for example think of a country where income inequality is relatively high, but where a new policy stimulating educational attainment may just be implemented. In this scenario, the studying cohorts relative to those years will enjoy broader educational access but will live in a society with high income inequality.  \n",
    "\n",
    "Therefore, I build dataframes for combinations of years. Specifically, I want to compare income inequality in 2010 with educational attainment in 1970 and 1985."
   ]
  },
  {
   "cell_type": "code",
   "execution_count": 12,
   "metadata": {},
   "outputs": [
    {
     "data": {
      "text/html": [
       "<div>\n",
       "<style scoped>\n",
       "    .dataframe tbody tr th:only-of-type {\n",
       "        vertical-align: middle;\n",
       "    }\n",
       "\n",
       "    .dataframe tbody tr th {\n",
       "        vertical-align: top;\n",
       "    }\n",
       "\n",
       "    .dataframe thead th {\n",
       "        text-align: right;\n",
       "    }\n",
       "</style>\n",
       "<table border=\"1\" class=\"dataframe\">\n",
       "  <thead>\n",
       "    <tr style=\"text-align: right;\">\n",
       "      <th></th>\n",
       "      <th>country</th>\n",
       "      <th>ed_att_1985</th>\n",
       "      <th>inc_ineq_2010</th>\n",
       "    </tr>\n",
       "  </thead>\n",
       "  <tbody>\n",
       "    <tr>\n",
       "      <th>0</th>\n",
       "      <td>Afghanistan</td>\n",
       "      <td>0.14</td>\n",
       "      <td>NaN</td>\n",
       "    </tr>\n",
       "    <tr>\n",
       "      <th>1</th>\n",
       "      <td>Albania</td>\n",
       "      <td>0.15</td>\n",
       "      <td>NaN</td>\n",
       "    </tr>\n",
       "    <tr>\n",
       "      <th>2</th>\n",
       "      <td>Algeria</td>\n",
       "      <td>0.08</td>\n",
       "      <td>NaN</td>\n",
       "    </tr>\n",
       "    <tr>\n",
       "      <th>3</th>\n",
       "      <td>American Samoa</td>\n",
       "      <td>NaN</td>\n",
       "      <td>NaN</td>\n",
       "    </tr>\n",
       "    <tr>\n",
       "      <th>4</th>\n",
       "      <td>Andorra</td>\n",
       "      <td>NaN</td>\n",
       "      <td>NaN</td>\n",
       "    </tr>\n",
       "  </tbody>\n",
       "</table>\n",
       "</div>"
      ],
      "text/plain": [
       "          country  ed_att_1985  inc_ineq_2010\n",
       "0     Afghanistan         0.14            NaN\n",
       "1         Albania         0.15            NaN\n",
       "2         Algeria         0.08            NaN\n",
       "3  American Samoa          NaN            NaN\n",
       "4         Andorra          NaN            NaN"
      ]
     },
     "execution_count": 12,
     "metadata": {},
     "output_type": "execute_result"
    }
   ],
   "source": [
    "df_merged70 = pd.merge(df_1970, df_2010, on=['country'], suffixes=['_1970', '_2010'], how='inner')\n",
    "cols= ['country', 'ed_att_1970', 'inc_ineq_2010']\n",
    "df_merged70 = df_merged70[cols]\n",
    "df_merged70.head()\n",
    "df_merged85 = pd.merge(df_1985, df_2010, on=['country'], suffixes=['_1985', '_2010'], how='inner')\n",
    "cols= ['country', 'ed_att_1985', 'inc_ineq_2010']\n",
    "df_merged85 = df_merged85[cols]\n",
    "df_merged85.head()"
   ]
  },
  {
   "cell_type": "markdown",
   "metadata": {},
   "source": [
    "As expected, also here there are several lines with missing data. These rows will not be useful, and can therefore be deleted."
   ]
  },
  {
   "cell_type": "code",
   "execution_count": 38,
   "metadata": {},
   "outputs": [
    {
     "name": "stdout",
     "output_type": "stream",
     "text": [
      "<class 'pandas.core.frame.DataFrame'>\n",
      "Int64Index: 69 entries, 8 to 262\n",
      "Data columns (total 3 columns):\n",
      "country          69 non-null object\n",
      "ed_att_1970      69 non-null float64\n",
      "inc_ineq_2010    69 non-null float64\n",
      "dtypes: float64(2), object(1)\n",
      "memory usage: 2.2+ KB\n",
      "                country  ed_att_1985  inc_ineq_2010\n",
      "8             Argentina         0.30           43.0\n",
      "9               Armenia         0.52           30.0\n",
      "11            Australia         0.73           34.7\n",
      "12              Austria         0.14           30.3\n",
      "16           Bangladesh         0.06           32.1\n",
      "19              Belgium         0.53           28.4\n",
      "30             Bulgaria         0.44           35.7\n",
      "36               Canada         0.53           33.6\n",
      "45             Colombia         0.23           54.8\n",
      "49           Costa Rica         0.34           48.2\n",
      "51              Croatia         0.18           32.4\n",
      "54               Cyprus         0.42           31.5\n",
      "55       Czech Republic         0.28           26.6\n",
      "56              Denmark         0.51           27.2\n",
      "59   Dominican Republic         0.18           46.9\n",
      "64              Ecuador         0.29           48.7\n",
      "65     Egypt, Arab Rep.         0.11           31.5\n",
      "66          El Salvador         0.23           43.5\n",
      "69              Estonia         0.38           32.0\n",
      "79              Finland         0.34           27.7\n",
      "81               France         0.29           33.7\n",
      "84          Gambia, The         0.03           43.6\n",
      "86              Germany         0.20           30.2\n",
      "89               Greece         0.38           34.1\n",
      "100            Honduras         0.09           53.1\n",
      "102             Hungary         0.31           29.4\n",
      "108             Iceland         0.32           26.2\n",
      "113             Ireland         0.41           32.3\n",
      "115              Israel         0.72           42.6\n",
      "116               Italy         0.14           34.7\n",
      "..                  ...          ...            ...\n",
      "152               Malta         0.20           29.0\n",
      "156              Mexico         0.20           45.3\n",
      "162             Moldova         0.31           32.1\n",
      "164            Mongolia         0.39           33.1\n",
      "171               Nepal         0.08           32.8\n",
      "172         Netherlands         0.43           27.8\n",
      "180              Norway         0.40           25.7\n",
      "186            Pakistan         0.07           29.8\n",
      "188              Panama         0.31           51.7\n",
      "190            Paraguay         0.16           51.0\n",
      "191                Peru         0.46           45.7\n",
      "194            Portugal         0.16           35.8\n",
      "199             Romania         0.16           35.5\n",
      "200  Russian Federation         0.69           39.5\n",
      "201              Rwanda         0.01           47.2\n",
      "212     Slovak Republic         0.22           27.3\n",
      "213            Slovenia         0.25           24.9\n",
      "217        South Africa         0.04           63.4\n",
      "221               Spain         0.25           35.2\n",
      "232              Sweden         0.50           27.7\n",
      "233         Switzerland         0.40           32.6\n",
      "237            Thailand         0.16           39.4\n",
      "242             Tunisia         0.08           35.8\n",
      "243              Turkey         0.36           38.8\n",
      "248             Ukraine         0.50           24.8\n",
      "250      United Kingdom         0.34           34.4\n",
      "251       United States         1.12           40.4\n",
      "253             Uruguay         0.23           44.5\n",
      "257             Vietnam         0.05           39.3\n",
      "262              Zambia         0.01           55.6\n",
      "\n",
      "[69 rows x 3 columns]\n"
     ]
    }
   ],
   "source": [
    "df_merged70.dropna(how='any', inplace=True)\n",
    "df_merged85.dropna(how='any', inplace=True)"
   ]
  },
  {
   "cell_type": "markdown",
   "metadata": {},
   "source": [
    "The dataset is finally ready to be graphically analyzed. I expect to see a negative relationship between the level of educational attainment and income inequality. As discussed in the introduction, this hypothesis is based on some basic relationships governing the relationship between income and education. First, the level of earnings is an increasing function of the level of education. Second, this relationship has decreasing returns to scale, meaning that a society with higher educational attainment must have a lower variance in incomes. \n",
    "\n",
    "I plot income inequality in 2010 and educational attainment in 1970 and 1985, together with their respective trend lines."
   ]
  },
  {
   "cell_type": "code",
   "execution_count": 39,
   "metadata": {},
   "outputs": [
    {
     "data": {
      "image/png": "[encoded data removed]",
      "text/plain": [
       "<matplotlib.figure.Figure at 0x7fbbc8130588>"
      ]
     },
     "metadata": {},
     "output_type": "display_data"
    }
   ],
   "source": [
    "plt.subplot(2, 2, 1)\n",
    "plt.xlabel('Educational attainment in 1985')\n",
    "plt.ylabel('Income inequality in 2010')\n",
    "fit85 = np.polyfit(df_merged85.ed_att_1985, df_merged85.inc_ineq_2010,1)\n",
    "fit_fn85 = np.poly1d(fit85) \n",
    "plt.plot(df_merged85.ed_att_1985, df_merged85.inc_ineq_2010, 'o', df_merged85.ed_att_1985, fit_fn85(df_merged85.ed_att_1985), 'r-')\n",
    "axes = plt.gca()\n",
    "axes.set_ylim([20,60])\n",
    "plt.subplot(2, 2, 2)\n",
    "fit70 = np.polyfit(df_merged70.ed_att_1970, df_merged70.inc_ineq_2010,1)\n",
    "fit_fn70 = np.poly1d(fit70) \n",
    "plt.plot(df_merged70.ed_att_1970, df_merged70.inc_ineq_2010, 'o', df_merged70.ed_att_1970, fit_fn70(df_merged70.ed_att_1970), 'r-')\n",
    "plt.xlabel('Educational attainment in 1970')\n",
    "axes = plt.gca()\n",
    "axes.set_ylim([20,60])\n",
    "plt.tight_layout()\n",
    "plt.show()"
   ]
  },
  {
   "cell_type": "markdown",
   "metadata": {},
   "source": [
    "The scatterplot presents an inverse relationship, above all for the 1970s data. This means that ceteris paribus, an increase in average years of tertiary schooling leads to lower income inequality in the future. \n",
    "\n",
    "There are some outliers which affect considerably the regression line. In a later stage it will be possible to read of the graph to which observations these outliers belong. \n",
    "\n",
    "Let's see what happens for data of the same year."
   ]
  },
  {
   "cell_type": "code",
   "execution_count": 40,
   "metadata": {
    "scrolled": false
   },
   "outputs": [
    {
     "name": "stdout",
     "output_type": "stream",
     "text": [
      "<class 'pandas.core.frame.DataFrame'>\n",
      "Int64Index: 69 entries, 658 to 19962\n",
      "Data columns (total 5 columns):\n",
      "country       69 non-null object\n",
      "date          69 non-null datetime64[ns]\n",
      "GDP_capita    69 non-null float64\n",
      "ed_att        69 non-null float64\n",
      "inc_ineq      69 non-null float64\n",
      "dtypes: datetime64[ns](1), float64(3), object(1)\n",
      "memory usage: 3.2+ KB\n"
     ]
    },
    {
     "name": "stderr",
     "output_type": "stream",
     "text": [
      "/usr/local/lib/python3.5/dist-packages/ipykernel_launcher.py:1: SettingWithCopyWarning: \n",
      "A value is trying to be set on a copy of a slice from a DataFrame\n",
      "\n",
      "See the caveats in the documentation: http://pandas.pydata.org/pandas-docs/stable/indexing.html#indexing-view-versus-copy\n",
      "  \"\"\"Entry point for launching an IPython kernel.\n"
     ]
    }
   ],
   "source": [
    "df_2010.dropna(how='any', inplace=True)"
   ]
  },
  {
   "cell_type": "code",
   "execution_count": 42,
   "metadata": {},
   "outputs": [
    {
     "data": {
      "image/png": "[encoded data removed]",
      "text/plain": [
       "<matplotlib.figure.Figure at 0x7fbbc8b335c0>"
      ]
     },
     "metadata": {},
     "output_type": "display_data"
    }
   ],
   "source": [
    "fit = np.polyfit(df_2010.ed_att, df_2010.inc_ineq,1)\n",
    "fit_fn = np.poly1d(fit) \n",
    "plt.plot(df_2010.ed_att, df_2010.inc_ineq, 'o', df_2010.ed_att, fit_fn(df_2010.ed_att), 'r-')\n",
    "plt.xlabel('Educational attainment in 2010')\n",
    "plt.ylabel('Income inequality in 2010')\n",
    "plt.show()"
   ]
  },
  {
   "cell_type": "markdown",
   "metadata": {},
   "source": [
    "Again, the relationship is negative. We can compare the three plots by looking at which scatterplot best fit their trendline. we can do this by regressing the two variables and looking at p-values and R-squared values.\n",
    "\n",
    "For educational attainment in 1970:"
   ]
  },
  {
   "cell_type": "code",
   "execution_count": 43,
   "metadata": {
    "scrolled": true
   },
   "outputs": [
    {
     "name": "stdout",
     "output_type": "stream",
     "text": [
      "The slope of the regression line is -19.83\n",
      "The p-value of the regression is 0.01\n",
      "The R-squared of the regression is 0.09\n"
     ]
    }
   ],
   "source": [
    "slope,intercept,r_value,p_value,std_err = linregress(df_merged70.ed_att_1970, df_merged70.inc_ineq_2010)\n",
    "print('The slope of the regression line is ' + \"%.2f\" % slope)\n",
    "print('The p-value of the regression is ' + \"%.2f\" % p_value)\n",
    "print('The R-squared of the regression is ' + \"%.2f\" % pow(r_value, 2))"
   ]
  },
  {
   "cell_type": "markdown",
   "metadata": {},
   "source": [
    "For educational attainment in 1985:"
   ]
  },
  {
   "cell_type": "code",
   "execution_count": 44,
   "metadata": {
    "scrolled": true
   },
   "outputs": [
    {
     "name": "stdout",
     "output_type": "stream",
     "text": [
      "The slope of the regression line is -13.23\n",
      "The p-value of the regression is 0.01\n",
      "The R-squared of the regression is 0.09\n"
     ]
    }
   ],
   "source": [
    "slope,intercept,r_value,p_value,std_err = linregress(df_merged85.ed_att_1985, df_merged85.inc_ineq_2010)\n",
    "print('The slope of the regression line is ' + \"%.2f\" % slope)\n",
    "print('The p-value of the regression is ' + \"%.2f\" % p_value)\n",
    "print('The R-squared of the regression is ' + \"%.2f\" % pow(r_value, 2))"
   ]
  },
  {
   "cell_type": "markdown",
   "metadata": {},
   "source": [
    "Finally, for educational attainment in 2010:"
   ]
  },
  {
   "cell_type": "code",
   "execution_count": 45,
   "metadata": {
    "scrolled": true
   },
   "outputs": [
    {
     "name": "stdout",
     "output_type": "stream",
     "text": [
      "The slope of the regression line is -9.41\n",
      "The p-value of the regression is 0.00\n",
      "The R-squared of the regression is 0.18\n"
     ]
    }
   ],
   "source": [
    "slope,intercept,r_value,p_value,std_err = linregress(df_2010.ed_att, df_2010.inc_ineq)\n",
    "print('The slope of the regression line is ' + \"%.2f\" % slope)\n",
    "print('The p-value of the regression is ' + \"%.2f\" % p_value)\n",
    "print('The R-squared of the regression is ' + \"%.2f\" % pow(r_value, 2))"
   ]
  },
  {
   "cell_type": "markdown",
   "metadata": {},
   "source": [
    "As can be seen, contrary to my initial intuition, the values fit best for the same year. \n",
    "Therefore, I now want to estimate the relationship between income inequality, gdp per capita, and educational attainment using observations of the same year. I use all rows for which each variable has an observation to have the maximum amount of observations."
   ]
  },
  {
   "cell_type": "code",
   "execution_count": 55,
   "metadata": {},
   "outputs": [
    {
     "name": "stdout",
     "output_type": "stream",
     "text": [
      "<class 'pandas.core.frame.DataFrame'>\n",
      "Int64Index: 201 entries, 121 to 19962\n",
      "Data columns (total 5 columns):\n",
      "country       201 non-null object\n",
      "date          201 non-null datetime64[ns]\n",
      "GDP_capita    201 non-null float64\n",
      "ed_att        201 non-null float64\n",
      "inc_ineq      201 non-null float64\n",
      "dtypes: datetime64[ns](1), float64(3), object(1)\n",
      "memory usage: 9.4+ KB\n"
     ]
    }
   ],
   "source": [
    "df_wb.dropna(how='any', inplace=True)\n",
    "df_wb.info()"
   ]
  },
  {
   "cell_type": "markdown",
   "metadata": {},
   "source": [
    "As can be read from the descriptive of the dataset, it contains 201 observations, a satisfying number to work with. I now make a scatterplot of educational attainment and income inequality such that we are actually able to identify which countries lay behind the points."
   ]
  },
  {
   "cell_type": "code",
   "execution_count": 56,
   "metadata": {
    "scrolled": true
   },
   "outputs": [
    {
     "data": {
      "text/html": [
       "\n",
       "    <div class=\"bk-root\">\n",
       "        <a href=\"https://bokeh.pydata.org\" target=\"_blank\" class=\"bk-logo bk-logo-small bk-logo-notebook\"></a>\n",
       "        <span id=\"cea0f77c-5695-49e6-bb01-a35d2ed26062\">Loading BokehJS ...</span>\n",
       "    </div>"
      ]
     },
     "metadata": {},
     "output_type": "display_data"
    },
    {
     "data": {
      "application/javascript": [
       "\n",
       "(function(root) {\n",
       "  function now() {\n",
       "    return new Date();\n",
       "  }\n",
       "\n",
       "  var force = true;\n",
       "\n",
       "  if (typeof (root._bokeh_onload_callbacks) === \"undefined\" || force === true) {\n",
       "    root._bokeh_onload_callbacks = [];\n",
       "    root._bokeh_is_loading = undefined;\n",
       "  }\n",
       "\n",
       "  var JS_MIME_TYPE = 'application/javascript';\n",
       "  var HTML_MIME_TYPE = 'text/html';\n",
       "  var EXEC_MIME_TYPE = 'application/vnd.bokehjs_exec.v0+json';\n",
       "  var CLASS_NAME = 'output_bokeh rendered_html';\n",
       "\n",
       "  /**\n",
       "   * Render data to the DOM node\n",
       "   */\n",
       "  function render(props, node) {\n",
       "    var script = document.createElement(\"script\");\n",
       "    node.appendChild(script);\n",
       "  }\n",
       "\n",
       "  /**\n",
       "   * Handle when an output is cleared or removed\n",
       "   */\n",
       "  function handleClearOutput(event, handle) {\n",
       "    var cell = handle.cell;\n",
       "\n",
       "    var id = cell.output_area._bokeh_element_id;\n",
       "    var server_id = cell.output_area._bokeh_server_id;\n",
       "    // Clean up Bokeh references\n",
       "    if (id != null && id in Bokeh.index) {\n",
       "      Bokeh.index[id].model.document.clear();\n",
       "      delete Bokeh.index[id];\n",
       "    }\n",
       "\n",
       "    if (server_id !== undefined) {\n",
       "      // Clean up Bokeh references\n",
       "      var cmd = \"from bokeh.io.state import curstate; print(curstate().uuid_to_server['\" + server_id + \"'].get_sessions()[0].document.roots[0]._id)\";\n",
       "      cell.notebook.kernel.execute(cmd, {\n",
       "        iopub: {\n",
       "          output: function(msg) {\n",
       "            var id = msg.content.text.trim();\n",
       "            if (id in Bokeh.index) {\n",
       "              Bokeh.index[id].model.document.clear();\n",
       "              delete Bokeh.index[id];\n",
       "            }\n",
       "          }\n",
       "        }\n",
       "      });\n",
       "      // Destroy server and session\n",
       "      var cmd = \"import bokeh.io.notebook as ion; ion.destroy_server('\" + server_id + \"')\";\n",
       "      cell.notebook.kernel.execute(cmd);\n",
       "    }\n",
       "  }\n",
       "\n",
       "  /**\n",
       "   * Handle when a new output is added\n",
       "   */\n",
       "  function handleAddOutput(event, handle) {\n",
       "    var output_area = handle.output_area;\n",
       "    var output = handle.output;\n",
       "\n",
       "    // limit handleAddOutput to display_data with EXEC_MIME_TYPE content only\n",
       "    if ((output.output_type != \"display_data\") || (!output.data.hasOwnProperty(EXEC_MIME_TYPE))) {\n",
       "      return\n",
       "    }\n",
       "\n",
       "    var toinsert = output_area.element.find(\".\" + CLASS_NAME.split(' ')[0]);\n",
       "\n",
       "    if (output.metadata[EXEC_MIME_TYPE][\"id\"] !== undefined) {\n",
       "      toinsert[toinsert.length - 1].firstChild.textContent = output.data[JS_MIME_TYPE];\n",
       "      // store reference to embed id on output_area\n",
       "      output_area._bokeh_element_id = output.metadata[EXEC_MIME_TYPE][\"id\"];\n",
       "    }\n",
       "    if (output.metadata[EXEC_MIME_TYPE][\"server_id\"] !== undefined) {\n",
       "      var bk_div = document.createElement(\"div\");\n",
       "      bk_div.innerHTML = output.data[HTML_MIME_TYPE];\n",
       "      var script_attrs = bk_div.children[0].attributes;\n",
       "      for (var i = 0; i < script_attrs.length; i++) {\n",
       "        toinsert[toinsert.length - 1].firstChild.setAttribute(script_attrs[i].name, script_attrs[i].value);\n",
       "      }\n",
       "      // store reference to server id on output_area\n",
       "      output_area._bokeh_server_id = output.metadata[EXEC_MIME_TYPE][\"server_id\"];\n",
       "    }\n",
       "  }\n",
       "\n",
       "  function register_renderer(events, OutputArea) {\n",
       "\n",
       "    function append_mime(data, metadata, element) {\n",
       "      // create a DOM node to render to\n",
       "      var toinsert = this.create_output_subarea(\n",
       "        metadata,\n",
       "        CLASS_NAME,\n",
       "        EXEC_MIME_TYPE\n",
       "      );\n",
       "      this.keyboard_manager.register_events(toinsert);\n",
       "      // Render to node\n",
       "      var props = {data: data, metadata: metadata[EXEC_MIME_TYPE]};\n",
       "      render(props, toinsert[toinsert.length - 1]);\n",
       "      element.append(toinsert);\n",
       "      return toinsert\n",
       "    }\n",
       "\n",
       "    /* Handle when an output is cleared or removed */\n",
       "    events.on('clear_output.CodeCell', handleClearOutput);\n",
       "    events.on('delete.Cell', handleClearOutput);\n",
       "\n",
       "    /* Handle when a new output is added */\n",
       "    events.on('output_added.OutputArea', handleAddOutput);\n",
       "\n",
       "    /**\n",
       "     * Register the mime type and append_mime function with output_area\n",
       "     */\n",
       "    OutputArea.prototype.register_mime_type(EXEC_MIME_TYPE, append_mime, {\n",
       "      /* Is output safe? */\n",
       "      safe: true,\n",
       "      /* Index of renderer in `output_area.display_order` */\n",
       "      index: 0\n",
       "    });\n",
       "  }\n",
       "\n",
       "  // register the mime type if in Jupyter Notebook environment and previously unregistered\n",
       "  if (root.Jupyter !== undefined) {\n",
       "    var events = require('base/js/events');\n",
       "    var OutputArea = require('notebook/js/outputarea').OutputArea;\n",
       "\n",
       "    if (OutputArea.prototype.mime_types().indexOf(EXEC_MIME_TYPE) == -1) {\n",
       "      register_renderer(events, OutputArea);\n",
       "    }\n",
       "  }\n",
       "\n",
       "  \n",
       "  if (typeof (root._bokeh_timeout) === \"undefined\" || force === true) {\n",
       "    root._bokeh_timeout = Date.now() + 5000;\n",
       "    root._bokeh_failed_load = false;\n",
       "  }\n",
       "\n",
       "  var NB_LOAD_WARNING = {'data': {'text/html':\n",
       "     \"<div style='background-color: #fdd'>\\n\"+\n",
       "     \"<p>\\n\"+\n",
       "     \"BokehJS does not appear to have successfully loaded. If loading BokehJS from CDN, this \\n\"+\n",
       "     \"may be due to a slow or bad network connection. Possible fixes:\\n\"+\n",
       "     \"</p>\\n\"+\n",
       "     \"<ul>\\n\"+\n",
       "     \"<li>re-rerun `output_notebook()` to attempt to load from CDN again, or</li>\\n\"+\n",
       "     \"<li>use INLINE resources instead, as so:</li>\\n\"+\n",
       "     \"</ul>\\n\"+\n",
       "     \"<code>\\n\"+\n",
       "     \"from bokeh.resources import INLINE\\n\"+\n",
       "     \"output_notebook(resources=INLINE)\\n\"+\n",
       "     \"</code>\\n\"+\n",
       "     \"</div>\"}};\n",
       "\n",
       "  function display_loaded() {\n",
       "    var el = document.getElementById(\"cea0f77c-5695-49e6-bb01-a35d2ed26062\");\n",
       "    if (el != null) {\n",
       "      el.textContent = \"BokehJS is loading...\";\n",
       "    }\n",
       "    if (root.Bokeh !== undefined) {\n",
       "      if (el != null) {\n",
       "        el.textContent = \"BokehJS \" + root.Bokeh.version + \" successfully loaded.\";\n",
       "      }\n",
       "    } else if (Date.now() < root._bokeh_timeout) {\n",
       "      setTimeout(display_loaded, 100)\n",
       "    }\n",
       "  }\n",
       "\n",
       "\n",
       "  function run_callbacks() {\n",
       "    try {\n",
       "      root._bokeh_onload_callbacks.forEach(function(callback) { callback() });\n",
       "    }\n",
       "    finally {\n",
       "      delete root._bokeh_onload_callbacks\n",
       "    }\n",
       "    console.info(\"Bokeh: all callbacks have finished\");\n",
       "  }\n",
       "\n",
       "  function load_libs(js_urls, callback) {\n",
       "    root._bokeh_onload_callbacks.push(callback);\n",
       "    if (root._bokeh_is_loading > 0) {\n",
       "      console.log(\"Bokeh: BokehJS is being loaded, scheduling callback at\", now());\n",
       "      return null;\n",
       "    }\n",
       "    if (js_urls == null || js_urls.length === 0) {\n",
       "      run_callbacks();\n",
       "      return null;\n",
       "    }\n",
       "    console.log(\"Bokeh: BokehJS not loaded, scheduling load and callback at\", now());\n",
       "    root._bokeh_is_loading = js_urls.length;\n",
       "    for (var i = 0; i < js_urls.length; i++) {\n",
       "      var url = js_urls[i];\n",
       "      var s = document.createElement('script');\n",
       "      s.src = url;\n",
       "      s.async = false;\n",
       "      s.onreadystatechange = s.onload = function() {\n",
       "        root._bokeh_is_loading--;\n",
       "        if (root._bokeh_is_loading === 0) {\n",
       "          console.log(\"Bokeh: all BokehJS libraries loaded\");\n",
       "          run_callbacks()\n",
       "        }\n",
       "      };\n",
       "      s.onerror = function() {\n",
       "        console.warn(\"failed to load library \" + url);\n",
       "      };\n",
       "      console.log(\"Bokeh: injecting script tag for BokehJS library: \", url);\n",
       "      document.getElementsByTagName(\"head\")[0].appendChild(s);\n",
       "    }\n",
       "  };var element = document.getElementById(\"cea0f77c-5695-49e6-bb01-a35d2ed26062\");\n",
       "  if (element == null) {\n",
       "    console.log(\"Bokeh: ERROR: autoload.js configured with elementid 'cea0f77c-5695-49e6-bb01-a35d2ed26062' but no matching script tag was found. \")\n",
       "    return false;\n",
       "  }\n",
       "\n",
       "  var js_urls = [\"https://cdn.pydata.org/bokeh/release/bokeh-0.13.0.min.js\", \"https://cdn.pydata.org/bokeh/release/bokeh-widgets-0.13.0.min.js\", \"https://cdn.pydata.org/bokeh/release/bokeh-tables-0.13.0.min.js\", \"https://cdn.pydata.org/bokeh/release/bokeh-gl-0.13.0.min.js\"];\n",
       "\n",
       "  var inline_js = [\n",
       "    function(Bokeh) {\n",
       "      Bokeh.set_log_level(\"info\");\n",
       "    },\n",
       "    \n",
       "    function(Bokeh) {\n",
       "      \n",
       "    },\n",
       "    function(Bokeh) {\n",
       "      console.log(\"Bokeh: injecting CSS: https://cdn.pydata.org/bokeh/release/bokeh-0.13.0.min.css\");\n",
       "      Bokeh.embed.inject_css(\"https://cdn.pydata.org/bokeh/release/bokeh-0.13.0.min.css\");\n",
       "      console.log(\"Bokeh: injecting CSS: https://cdn.pydata.org/bokeh/release/bokeh-widgets-0.13.0.min.css\");\n",
       "      Bokeh.embed.inject_css(\"https://cdn.pydata.org/bokeh/release/bokeh-widgets-0.13.0.min.css\");\n",
       "      console.log(\"Bokeh: injecting CSS: https://cdn.pydata.org/bokeh/release/bokeh-tables-0.13.0.min.css\");\n",
       "      Bokeh.embed.inject_css(\"https://cdn.pydata.org/bokeh/release/bokeh-tables-0.13.0.min.css\");\n",
       "    }\n",
       "  ];\n",
       "\n",
       "  function run_inline_js() {\n",
       "    \n",
       "    if ((root.Bokeh !== undefined) || (force === true)) {\n",
       "      for (var i = 0; i < inline_js.length; i++) {\n",
       "        inline_js[i].call(root, root.Bokeh);\n",
       "      }if (force === true) {\n",
       "        display_loaded();\n",
       "      }} else if (Date.now() < root._bokeh_timeout) {\n",
       "      setTimeout(run_inline_js, 100);\n",
       "    } else if (!root._bokeh_failed_load) {\n",
       "      console.log(\"Bokeh: BokehJS failed to load within specified timeout.\");\n",
       "      root._bokeh_failed_load = true;\n",
       "    } else if (force !== true) {\n",
       "      var cell = $(document.getElementById(\"cea0f77c-5695-49e6-bb01-a35d2ed26062\")).parents('.cell').data().cell;\n",
       "      cell.output_area.append_execute_result(NB_LOAD_WARNING)\n",
       "    }\n",
       "\n",
       "  }\n",
       "\n",
       "  if (root._bokeh_is_loading === 0) {\n",
       "    console.log(\"Bokeh: BokehJS loaded, going straight to plotting\");\n",
       "    run_inline_js();\n",
       "  } else {\n",
       "    load_libs(js_urls, function() {\n",
       "      console.log(\"Bokeh: BokehJS plotting callback run at\", now());\n",
       "      run_inline_js();\n",
       "    });\n",
       "  }\n",
       "}(window));"
      ],
      "application/vnd.bokehjs_load.v0+json": "\n(function(root) {\n  function now() {\n    return new Date();\n  }\n\n  var force = true;\n\n  if (typeof (root._bokeh_onload_callbacks) === \"undefined\" || force === true) {\n    root._bokeh_onload_callbacks = [];\n    root._bokeh_is_loading = undefined;\n  }\n\n  \n\n  \n  if (typeof (root._bokeh_timeout) === \"undefined\" || force === true) {\n    root._bokeh_timeout = Date.now() + 5000;\n    root._bokeh_failed_load = false;\n  }\n\n  var NB_LOAD_WARNING = {'data': {'text/html':\n     \"<div style='background-color: #fdd'>\\n\"+\n     \"<p>\\n\"+\n     \"BokehJS does not appear to have successfully loaded. If loading BokehJS from CDN, this \\n\"+\n     \"may be due to a slow or bad network connection. Possible fixes:\\n\"+\n     \"</p>\\n\"+\n     \"<ul>\\n\"+\n     \"<li>re-rerun `output_notebook()` to attempt to load from CDN again, or</li>\\n\"+\n     \"<li>use INLINE resources instead, as so:</li>\\n\"+\n     \"</ul>\\n\"+\n     \"<code>\\n\"+\n     \"from bokeh.resources import INLINE\\n\"+\n     \"output_notebook(resources=INLINE)\\n\"+\n     \"</code>\\n\"+\n     \"</div>\"}};\n\n  function display_loaded() {\n    var el = document.getElementById(\"cea0f77c-5695-49e6-bb01-a35d2ed26062\");\n    if (el != null) {\n      el.textContent = \"BokehJS is loading...\";\n    }\n    if (root.Bokeh !== undefined) {\n      if (el != null) {\n        el.textContent = \"BokehJS \" + root.Bokeh.version + \" successfully loaded.\";\n      }\n    } else if (Date.now() < root._bokeh_timeout) {\n      setTimeout(display_loaded, 100)\n    }\n  }\n\n\n  function run_callbacks() {\n    try {\n      root._bokeh_onload_callbacks.forEach(function(callback) { callback() });\n    }\n    finally {\n      delete root._bokeh_onload_callbacks\n    }\n    console.info(\"Bokeh: all callbacks have finished\");\n  }\n\n  function load_libs(js_urls, callback) {\n    root._bokeh_onload_callbacks.push(callback);\n    if (root._bokeh_is_loading > 0) {\n      console.log(\"Bokeh: BokehJS is being loaded, scheduling callback at\", now());\n      return null;\n    }\n    if (js_urls == null || js_urls.length === 0) {\n      run_callbacks();\n      return null;\n    }\n    console.log(\"Bokeh: BokehJS not loaded, scheduling load and callback at\", now());\n    root._bokeh_is_loading = js_urls.length;\n    for (var i = 0; i < js_urls.length; i++) {\n      var url = js_urls[i];\n      var s = document.createElement('script');\n      s.src = url;\n      s.async = false;\n      s.onreadystatechange = s.onload = function() {\n        root._bokeh_is_loading--;\n        if (root._bokeh_is_loading === 0) {\n          console.log(\"Bokeh: all BokehJS libraries loaded\");\n          run_callbacks()\n        }\n      };\n      s.onerror = function() {\n        console.warn(\"failed to load library \" + url);\n      };\n      console.log(\"Bokeh: injecting script tag for BokehJS library: \", url);\n      document.getElementsByTagName(\"head\")[0].appendChild(s);\n    }\n  };var element = document.getElementById(\"cea0f77c-5695-49e6-bb01-a35d2ed26062\");\n  if (element == null) {\n    console.log(\"Bokeh: ERROR: autoload.js configured with elementid 'cea0f77c-5695-49e6-bb01-a35d2ed26062' but no matching script tag was found. \")\n    return false;\n  }\n\n  var js_urls = [\"https://cdn.pydata.org/bokeh/release/bokeh-0.13.0.min.js\", \"https://cdn.pydata.org/bokeh/release/bokeh-widgets-0.13.0.min.js\", \"https://cdn.pydata.org/bokeh/release/bokeh-tables-0.13.0.min.js\", \"https://cdn.pydata.org/bokeh/release/bokeh-gl-0.13.0.min.js\"];\n\n  var inline_js = [\n    function(Bokeh) {\n      Bokeh.set_log_level(\"info\");\n    },\n    \n    function(Bokeh) {\n      \n    },\n    function(Bokeh) {\n      console.log(\"Bokeh: injecting CSS: https://cdn.pydata.org/bokeh/release/bokeh-0.13.0.min.css\");\n      Bokeh.embed.inject_css(\"https://cdn.pydata.org/bokeh/release/bokeh-0.13.0.min.css\");\n      console.log(\"Bokeh: injecting CSS: https://cdn.pydata.org/bokeh/release/bokeh-widgets-0.13.0.min.css\");\n      Bokeh.embed.inject_css(\"https://cdn.pydata.org/bokeh/release/bokeh-widgets-0.13.0.min.css\");\n      console.log(\"Bokeh: injecting CSS: https://cdn.pydata.org/bokeh/release/bokeh-tables-0.13.0.min.css\");\n      Bokeh.embed.inject_css(\"https://cdn.pydata.org/bokeh/release/bokeh-tables-0.13.0.min.css\");\n    }\n  ];\n\n  function run_inline_js() {\n    \n    if ((root.Bokeh !== undefined) || (force === true)) {\n      for (var i = 0; i < inline_js.length; i++) {\n        inline_js[i].call(root, root.Bokeh);\n      }if (force === true) {\n        display_loaded();\n      }} else if (Date.now() < root._bokeh_timeout) {\n      setTimeout(run_inline_js, 100);\n    } else if (!root._bokeh_failed_load) {\n      console.log(\"Bokeh: BokehJS failed to load within specified timeout.\");\n      root._bokeh_failed_load = true;\n    } else if (force !== true) {\n      var cell = $(document.getElementById(\"cea0f77c-5695-49e6-bb01-a35d2ed26062\")).parents('.cell').data().cell;\n      cell.output_area.append_execute_result(NB_LOAD_WARNING)\n    }\n\n  }\n\n  if (root._bokeh_is_loading === 0) {\n    console.log(\"Bokeh: BokehJS loaded, going straight to plotting\");\n    run_inline_js();\n  } else {\n    load_libs(js_urls, function() {\n      console.log(\"Bokeh: BokehJS plotting callback run at\", now());\n      run_inline_js();\n    });\n  }\n}(window));"
     },
     "metadata": {},
     "output_type": "display_data"
    },
    {
     "data": {
      "text/html": [
       "\n",
       "\n",
       "\n",
       "\n",
       "\n",
       "\n",
       "  <div class=\"bk-root\" id=\"86823d40-ea3a-458d-bda8-2b663ba9c4cb\"></div>\n"
      ]
     },
     "metadata": {},
     "output_type": "display_data"
    },
    {
     "data": {
      "application/javascript": [
       "(function(root) {\n",
       "  function embed_document(root) {\n",
       "    \n",
       "  var docs_json = {\"7717b49b-36d9-415a-a564-6b684de649de\":{\"roots\":{\"references\":[{\"attributes\":{\"axis_label\":\"Income inequality (Gini)\",\"formatter\":{\"id\":\"456499fe-8391-43f8-a5e4-7b8458ee8a16\",\"type\":\"BasicTickFormatter\"},\"plot\":{\"id\":\"31a12f07-2b21-4877-b0ca-91d96c6f215a\",\"subtype\":\"Figure\",\"type\":\"Plot\"},\"ticker\":{\"id\":\"308368f0-bcc2-4249-9195-c25241690277\",\"type\":\"BasicTicker\"}},\"id\":\"68f0a405-1a0b-45d7-8b3d-138bcc630690\",\"type\":\"LinearAxis\"},{\"attributes\":{\"callback\":null,\"formatters\":{\"date\":\"datetime\"},\"renderers\":\"auto\",\"tooltips\":[[\"Country\",\"@country\"],[\"Year\",\"@date{%Y}\"]]},\"id\":\"1d4fce28-0e31-4764-aa3e-3d189be6cee6\",\"type\":\"HoverTool\"},{\"attributes\":{\"callback\":null,\"data\":{\"GDP_capita\":{\"__ndarray__\":\"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\",\"dtype\":\"float64\",\"shape\":[201]},\"country\":[\"Albania\",\"Algeria\",\"Argentina\",\"Argentina\",\"Argentina\",\"Argentina\",\"Argentina\",\"Armenia\",\"Armenia\",\"Australia\",\"Australia\",\"Australia\",\"Austria\",\"Austria\",\"Bangladesh\",\"Bangladesh\",\"Bangladesh\",\"Bangladesh\",\"Bangladesh\",\"Belgium\",\"Belgium\",\"Bolivia\",\"Bolivia\",\"Bolivia\",\"Botswana\",\"Brazil\",\"Brazil\",\"Brazil\",\"Brazil\",\"Bulgaria\",\"Canada\",\"Canada\",\"Chile\",\"Chile\",\"Colombia\",\"Colombia\",\"Colombia\",\"Congo, Rep.\",\"Costa Rica\",\"Costa Rica\",\"Costa Rica\",\"Costa Rica\",\"Costa Rica\",\"Cote d'Ivoire\",\"Cote d'Ivoire\",\"Croatia\",\"Cyprus\",\"Cyprus\",\"Czech Republic\",\"Czech Republic\",\"Denmark\",\"Denmark\",\"Dominican Republic\",\"Dominican Republic\",\"Dominican Republic\",\"Ecuador\",\"Ecuador\",\"Ecuador\",\"Egypt, Arab Rep.\",\"Egypt, Arab Rep.\",\"Egypt, Arab Rep.\",\"El Salvador\",\"El Salvador\",\"El Salvador\",\"El Salvador\",\"Estonia\",\"Estonia\",\"Eswatini\",\"Finland\",\"Finland\",\"France\",\"France\",\"Gabon\",\"Gambia, The\",\"Germany\",\"Germany\",\"Ghana\",\"Greece\",\"Greece\",\"Guatemala\",\"Honduras\",\"Honduras\",\"Honduras\",\"Honduras\",\"Hungary\",\"Hungary\",\"Iceland\",\"Iceland\",\"Iran, Islamic Rep.\",\"Iran, Islamic Rep.\",\"Ireland\",\"Ireland\",\"Israel\",\"Israel\",\"Italy\",\"Italy\",\"Jamaica\",\"Jordan\",\"Kazakhstan\",\"Kazakhstan\",\"Kenya\",\"Korea, Rep.\",\"Kyrgyz Republic\",\"Kyrgyz Republic\",\"Kyrgyz Republic\",\"Latvia\",\"Latvia\",\"Latvia\",\"Lesotho\",\"Lithuania\",\"Lithuania\",\"Luxembourg\",\"Luxembourg\",\"Malawi\",\"Malaysia\",\"Malta\",\"Mauritania\",\"Mauritania\",\"Mexico\",\"Mexico\",\"Mexico\",\"Moldova\",\"Moldova\",\"Moldova\",\"Mongolia\",\"Mongolia\",\"Morocco\",\"Morocco\",\"Nepal\",\"Nepal\",\"Netherlands\",\"Netherlands\",\"Nicaragua\",\"Niger\",\"Norway\",\"Norway\",\"Pakistan\",\"Pakistan\",\"Pakistan\",\"Panama\",\"Panama\",\"Panama\",\"Panama\",\"Paraguay\",\"Paraguay\",\"Paraguay\",\"Paraguay\",\"Peru\",\"Peru\",\"Peru\",\"Portugal\",\"Portugal\",\"Romania\",\"Russian Federation\",\"Russian Federation\",\"Russian Federation\",\"Rwanda\",\"Rwanda\",\"Rwanda\",\"Senegal\",\"Slovak Republic\",\"Slovak Republic\",\"Slovenia\",\"Slovenia\",\"South Africa\",\"South Africa\",\"South Africa\",\"Spain\",\"Spain\",\"Sri Lanka\",\"Sri Lanka\",\"Sri Lanka\",\"Sweden\",\"Sweden\",\"Switzerland\",\"Tanzania\",\"Thailand\",\"Thailand\",\"Thailand\",\"Tunisia\",\"Tunisia\",\"Tunisia\",\"Tunisia\",\"Tunisia\",\"Tunisia\",\"Turkey\",\"Turkey\",\"Uganda\",\"Ukraine\",\"Ukraine\",\"Ukraine\",\"United Kingdom\",\"United Kingdom\",\"United States\",\"United States\",\"Uruguay\",\"Venezuela, RB\",\"Venezuela, RB\",\"Vietnam\",\"Yemen, Rep.\",\"Zambia\"],\"date\":{\"__ndarray__\":\"AAAAJLkScEIAAIBu5vVmQgAAABzOXVJCAACAbub1ZkIAAID1WY1rQgAAACS5EnBCAACA53JeckIAAAAkuRJwQgAAgOdyXnJCAAAAwf6NW0IAAIBu5vVmQgAAgOdyXnJCAAAAJLkScEIAAIDncl5yQgAAAMH+jVtCAACAbub1ZkIAAID1WY1rQgAAACS5EnBCAACA53JeckIAAAAkuRJwQgAAgOdyXnJCAACA53JeYkIAAID1WY1rQgAAACS5EnBCAAAAwf6NW0IAAADB/o1bQgAAgOdyXmJCAACAbub1ZkIAAAAkuRJwQgAAgOdyXnJCAACA9VmNa0IAAIDncl5yQgAAgOdyXmJCAACA9VmNa0IAAID1WY1rQgAAACS5EnBCAACA53JeckIAAAAkuRJwQgAAgOdyXmJCAACAbub1ZkIAAID1WY1rQgAAACS5EnBCAACA53JeckIAAADB/o1bQgAAgG7m9WZCAACA53JeckIAAAAkuRJwQgAAgOdyXnJCAAAAJLkScEIAAIDncl5yQgAAACS5EnBCAACA53JeckIAAID1WY1rQgAAACS5EnBCAACA53JeckIAAID1WY1rQgAAACS5EnBCAACA53JeckIAAIDncl5iQgAAgG7m9WZCAACA53JeckIAAIBu5vVmQgAAgPVZjWtCAAAAJLkScEIAAIDncl5yQgAAACS5EnBCAACA53JeckIAAID1WY1rQgAAACS5EnBCAACA53JeckIAAAAkuRJwQgAAgOdyXnJCAAAAJLkScEIAAIDncl5yQgAAgPVZjWtCAACA53JeckIAAAAkuRJwQgAAACS5EnBCAACA53JeckIAAID1WY1rQgAAgOdyXmJCAACAbub1ZkIAAAAkuRJwQgAAgOdyXnJCAAAAJLkScEIAAIDncl5yQgAAACS5EnBCAACA53JeckIAAIDncl5iQgAAACS5EnBCAAAAJLkScEIAAIDncl5yQgAAACS5EnBCAACA53JeckIAAAAkuRJwQgAAgOdyXnJCAACA53JeYkIAAIDncl5yQgAAACS5EnBCAACA53JeckIAAAAkuRJwQgAAgOdyXnJCAACA9VmNa0IAAAAkuRJwQgAAgOdyXnJCAACAbub1ZkIAAAAkuRJwQgAAgOdyXnJCAACA53JeckIAAAAkuRJwQgAAgOdyXnJCAAAAJLkScEIAAIDncl5yQgAAgOdyXnJCAACAbub1ZkIAAIDncl5yQgAAgG7m9WZCAACA9VmNa0IAAID1WY1rQgAAACS5EnBCAACA53JeckIAAID1WY1rQgAAACS5EnBCAACA53JeckIAAIBu5vVmQgAAgOdyXnJCAACA53JeYkIAAID1WY1rQgAAgG7m9WZCAACA53JeckIAAAAkuRJwQgAAgOdyXnJCAAAAJLkScEIAAAAkuRJwQgAAACS5EnBCAACA53JeckIAAIDncl5iQgAAACS5EnBCAACA53JeckIAAIBu5vVmQgAAgPVZjWtCAAAAJLkScEIAAIDncl5yQgAAgOdyXmJCAACAbub1ZkIAAAAkuRJwQgAAgOdyXnJCAACA9VmNa0IAAAAkuRJwQgAAgOdyXnJCAAAAJLkScEIAAIDncl5yQgAAgOdyXnJCAACA9VmNa0IAAAAkuRJwQgAAgOdyXnJCAACA9VmNa0IAAAAkuRJwQgAAgOdyXnJCAAAAJLkScEIAAAAkuRJwQgAAgOdyXnJCAAAAJLkScEIAAIDncl5yQgAAgPVZjWtCAAAAJLkScEIAAIDncl5yQgAAACS5EnBCAACA53JeckIAAADB/o1bQgAAgOdyXmJCAACAbub1ZkIAAAAkuRJwQgAAgOdyXnJCAACA53JeckIAAID1WY1rQgAAgOdyXmJCAACA9VmNa0IAAIDncl5yQgAAAMH+jVtCAACA53JeYkIAAIBu5vVmQgAAgPVZjWtCAAAAJLkScEIAAIDncl5yQgAAACS5EnBCAACA53JeckIAAAAkuRJwQgAAgG7m9WZCAAAAJLkScEIAAIDncl5yQgAAACS5EnBCAACA53JeckIAAID1WY1rQgAAgOdyXnJCAACA53JeckIAAIBu5vVmQgAAACS5EnBCAACA53JeckIAAAAkuRJwQgAAgOdyXnJC\",\"dtype\":\"float64\",\"shape\":[201]},\"ed_att\":{\"__ndarray__\":\"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\",\"dtype\":\"float64\",\"shape\":[201]},\"inc_ineq\":{\"__ndarray__\":\"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\",\"dtype\":\"float64\",\"shape\":[201]},\"index\":[121,187,628,643,648,653,658,729,734,861,871,886,957,962,1241,1251,1256,1261,1266,1489,1494,1854,1864,1869,2001,2077,2082,2087,2097,2330,2776,2786,3298,3308,3460,3465,3470,3693,3754,3759,3764,3769,3774,3825,3835,3926,4149,4154,4225,4230,4301,4306,4524,4529,4534,4904,4909,4914,4970,4975,4990,5051,5056,5061,5066,5289,5294,5360,6049,6054,6201,6206,6353,6434,6576,6586,6657,6809,6814,7108,7630,7635,7645,7650,7797,7802,8253,8258,8466,8481,8633,8638,8785,8790,8861,8866,8922,9094,9165,9170,9241,9474,9692,9697,9702,10143,10153,10158,10386,10685,10690,10989,10994,11298,11359,11602,11739,11744,11896,11901,11906,12352,12357,12362,12499,12514,12646,12656,13031,13046,13117,13122,13345,13421,13725,13730,14166,14181,14186,14323,14328,14333,14338,14470,14475,14485,14490,14556,14561,14566,14789,14794,15174,15240,15245,15250,15316,15321,15326,15701,16157,16162,16233,16238,16532,16537,16542,16841,16846,16897,16902,16907,17677,17682,17758,17976,18042,18052,18062,18417,18422,18427,18432,18437,18442,18513,18518,18817,18883,18893,18898,19045,19050,19116,19126,19278,19491,19501,19582,19881,19962]},\"selected\":{\"id\":\"7e551eb1-259f-4c48-970d-5ad4ff192b80\",\"type\":\"Selection\"},\"selection_policy\":{\"id\":\"63ac249e-f161-470d-a64c-a7aebeaa1610\",\"type\":\"UnionRenderers\"}},\"id\":\"c72dcfc1-2224-4573-bb1a-b47323b877f6\",\"type\":\"ColumnDataSource\"},{\"attributes\":{\"plot\":{\"id\":\"31a12f07-2b21-4877-b0ca-91d96c6f215a\",\"subtype\":\"Figure\",\"type\":\"Plot\"},\"ticker\":{\"id\":\"50fcae84-737d-49b2-9aa0-19d390d33bc2\",\"type\":\"BasicTicker\"}},\"id\":\"fd28d0f7-596f-4c6a-8d03-3cf213fa8b07\",\"type\":\"Grid\"},{\"attributes\":{\"active_drag\":\"auto\",\"active_inspect\":\"auto\",\"active_multi\":null,\"active_scroll\":\"auto\",\"active_tap\":\"auto\",\"tools\":[{\"id\":\"1d4fce28-0e31-4764-aa3e-3d189be6cee6\",\"type\":\"HoverTool\"}]},\"id\":\"7b28aa68-1841-455e-92a3-426bf9592ccc\",\"type\":\"Toolbar\"},{\"attributes\":{},\"id\":\"7e551eb1-259f-4c48-970d-5ad4ff192b80\",\"type\":\"Selection\"},{\"attributes\":{},\"id\":\"50fcae84-737d-49b2-9aa0-19d390d33bc2\",\"type\":\"BasicTicker\"},{\"attributes\":{\"fill_alpha\":{\"value\":0.1},\"fill_color\":{\"value\":\"#1f77b4\"},\"line_alpha\":{\"value\":0.1},\"line_color\":{\"value\":\"#1f77b4\"},\"size\":{\"units\":\"screen\",\"value\":7},\"x\":{\"field\":\"ed_att\"},\"y\":{\"field\":\"inc_ineq\"}},\"id\":\"d2baa335-f6d0-48f4-bd4d-8e9095a9942e\",\"type\":\"Circle\"},{\"attributes\":{},\"id\":\"f4893e3c-bd00-43c6-a134-d4c57eb0c54e\",\"type\":\"BasicTickFormatter\"},{\"attributes\":{\"source\":{\"id\":\"c72dcfc1-2224-4573-bb1a-b47323b877f6\",\"type\":\"ColumnDataSource\"}},\"id\":\"47017916-c0c3-45f1-9a1c-17c0d63f74cd\",\"type\":\"CDSView\"},{\"attributes\":{\"fill_color\":{\"value\":\"#1f77b4\"},\"line_color\":{\"value\":\"#1f77b4\"},\"size\":{\"units\":\"screen\",\"value\":7},\"x\":{\"field\":\"ed_att\"},\"y\":{\"field\":\"inc_ineq\"}},\"id\":\"e001fe56-b41a-4e16-8d0e-5504000d5f2d\",\"type\":\"Circle\"},{\"attributes\":{\"callback\":null,\"end\":1.8},\"id\":\"92930cf2-0ac8-4599-9317-3b7cd62f6329\",\"type\":\"Range1d\"},{\"attributes\":{\"callback\":null,\"end\":70,\"start\":20},\"id\":\"921dfe8c-a6a0-4eeb-bbfd-dff3a84ab5dd\",\"type\":\"Range1d\"},{\"attributes\":{},\"id\":\"95f79932-501b-4da8-afe1-ffad7b042cde\",\"type\":\"LinearScale\"},{\"attributes\":{\"plot\":null,\"text\":\"Educational attainment and income inequality, World Bank\"},\"id\":\"8f6d58ef-f38c-44d7-b65c-7fbc40949847\",\"type\":\"Title\"},{\"attributes\":{\"below\":[{\"id\":\"fac32052-3994-4c9c-91f7-6d0ce9bcd664\",\"type\":\"LinearAxis\"}],\"left\":[{\"id\":\"68f0a405-1a0b-45d7-8b3d-138bcc630690\",\"type\":\"LinearAxis\"}],\"plot_width\":750,\"renderers\":[{\"id\":\"fac32052-3994-4c9c-91f7-6d0ce9bcd664\",\"type\":\"LinearAxis\"},{\"id\":\"fd28d0f7-596f-4c6a-8d03-3cf213fa8b07\",\"type\":\"Grid\"},{\"id\":\"68f0a405-1a0b-45d7-8b3d-138bcc630690\",\"type\":\"LinearAxis\"},{\"id\":\"8f6c3dbe-893d-4686-a227-822db1a98faf\",\"type\":\"Grid\"},{\"id\":\"801971ed-d330-48a1-b17c-23756a9ee91a\",\"type\":\"GlyphRenderer\"}],\"title\":{\"id\":\"8f6d58ef-f38c-44d7-b65c-7fbc40949847\",\"type\":\"Title\"},\"toolbar\":{\"id\":\"7b28aa68-1841-455e-92a3-426bf9592ccc\",\"type\":\"Toolbar\"},\"x_range\":{\"id\":\"92930cf2-0ac8-4599-9317-3b7cd62f6329\",\"type\":\"Range1d\"},\"x_scale\":{\"id\":\"95f79932-501b-4da8-afe1-ffad7b042cde\",\"type\":\"LinearScale\"},\"y_range\":{\"id\":\"921dfe8c-a6a0-4eeb-bbfd-dff3a84ab5dd\",\"type\":\"Range1d\"},\"y_scale\":{\"id\":\"ef5c124c-49a2-4ad7-902c-668dcbdcb169\",\"type\":\"LinearScale\"}},\"id\":\"31a12f07-2b21-4877-b0ca-91d96c6f215a\",\"subtype\":\"Figure\",\"type\":\"Plot\"},{\"attributes\":{\"axis_label\":\"Educational attainment\",\"formatter\":{\"id\":\"f4893e3c-bd00-43c6-a134-d4c57eb0c54e\",\"type\":\"BasicTickFormatter\"},\"plot\":{\"id\":\"31a12f07-2b21-4877-b0ca-91d96c6f215a\",\"subtype\":\"Figure\",\"type\":\"Plot\"},\"ticker\":{\"id\":\"50fcae84-737d-49b2-9aa0-19d390d33bc2\",\"type\":\"BasicTicker\"}},\"id\":\"fac32052-3994-4c9c-91f7-6d0ce9bcd664\",\"type\":\"LinearAxis\"},{\"attributes\":{\"data_source\":{\"id\":\"c72dcfc1-2224-4573-bb1a-b47323b877f6\",\"type\":\"ColumnDataSource\"},\"glyph\":{\"id\":\"e001fe56-b41a-4e16-8d0e-5504000d5f2d\",\"type\":\"Circle\"},\"hover_glyph\":null,\"muted_glyph\":null,\"nonselection_glyph\":{\"id\":\"d2baa335-f6d0-48f4-bd4d-8e9095a9942e\",\"type\":\"Circle\"},\"selection_glyph\":null,\"view\":{\"id\":\"47017916-c0c3-45f1-9a1c-17c0d63f74cd\",\"type\":\"CDSView\"}},\"id\":\"801971ed-d330-48a1-b17c-23756a9ee91a\",\"type\":\"GlyphRenderer\"},{\"attributes\":{},\"id\":\"456499fe-8391-43f8-a5e4-7b8458ee8a16\",\"type\":\"BasicTickFormatter\"},{\"attributes\":{},\"id\":\"ef5c124c-49a2-4ad7-902c-668dcbdcb169\",\"type\":\"LinearScale\"},{\"attributes\":{},\"id\":\"308368f0-bcc2-4249-9195-c25241690277\",\"type\":\"BasicTicker\"},{\"attributes\":{\"dimension\":1,\"plot\":{\"id\":\"31a12f07-2b21-4877-b0ca-91d96c6f215a\",\"subtype\":\"Figure\",\"type\":\"Plot\"},\"ticker\":{\"id\":\"308368f0-bcc2-4249-9195-c25241690277\",\"type\":\"BasicTicker\"}},\"id\":\"8f6c3dbe-893d-4686-a227-822db1a98faf\",\"type\":\"Grid\"},{\"attributes\":{},\"id\":\"63ac249e-f161-470d-a64c-a7aebeaa1610\",\"type\":\"UnionRenderers\"}],\"root_ids\":[\"31a12f07-2b21-4877-b0ca-91d96c6f215a\"]},\"title\":\"Bokeh Application\",\"version\":\"0.13.0\"}};\n",
       "  var render_items = [{\"docid\":\"7717b49b-36d9-415a-a564-6b684de649de\",\"roots\":{\"31a12f07-2b21-4877-b0ca-91d96c6f215a\":\"86823d40-ea3a-458d-bda8-2b663ba9c4cb\"}}];\n",
       "  root.Bokeh.embed.embed_items_notebook(docs_json, render_items);\n",
       "\n",
       "  }\n",
       "  if (root.Bokeh !== undefined) {\n",
       "    embed_document(root);\n",
       "  } else {\n",
       "    var attempts = 0;\n",
       "    var timer = setInterval(function(root) {\n",
       "      if (root.Bokeh !== undefined) {\n",
       "        embed_document(root);\n",
       "        clearInterval(timer);\n",
       "      }\n",
       "      attempts++;\n",
       "      if (attempts > 100) {\n",
       "        console.log(\"Bokeh: ERROR: Unable to run BokehJS code because BokehJS library is missing\")\n",
       "        clearInterval(timer);\n",
       "      }\n",
       "    }, 10, root)\n",
       "  }\n",
       "})(window);"
      ],
      "application/vnd.bokehjs_exec.v0+json": ""
     },
     "metadata": {
      "application/vnd.bokehjs_exec.v0+json": {
       "id": "31a12f07-2b21-4877-b0ca-91d96c6f215a"
      }
     },
     "output_type": "display_data"
    }
   ],
   "source": [
    "from bokeh.io import output_file, show, output_notebook\n",
    "from bokeh.plotting import figure\n",
    "from bokeh.models import HoverTool\n",
    "output_notebook()\n",
    "\n",
    "hover = HoverTool(tooltips=[('Country','@country'),('Year','@date{%Y}')], formatters={'date': 'datetime'})\n",
    "\n",
    "plot = figure(tools=[hover], plot_width=750 , y_axis_label='Income inequality (Gini)', x_axis_label='Educational attainment', y_range=(20,70), x_range=(0,1.8), title='Educational attainment and income inequality, World Bank')\n",
    "plot.circle(y='inc_ineq', x='ed_att', size=7, source=df_wb)\n",
    "output_file('inequality and education.html')\n",
    "show(plot)"
   ]
  },
  {
   "cell_type": "markdown",
   "metadata": {},
   "source": [
    "The graph shows much less outliers compared to the graphs with income inequality in 2010 and educational attainment in 1970 and 1985. The points that are the furthest away from the general trend are those with average income inquality and very high educational attainment. These mainly correspond to the US and Russia. \n",
    "\n",
    "I now turn to estimate the average decrease in income inequality that follows an increase in educational attainment."
   ]
  },
  {
   "cell_type": "markdown",
   "metadata": {},
   "source": [
    "## 3.3 Regression analysis"
   ]
  },
  {
   "cell_type": "markdown",
   "metadata": {},
   "source": [
    "Following the literature presented in my introduction, I will compute the square of gdp per capita. I will also compute the square of educational attainmnent, as it looks like the relationship between income inequality and educational attainment is quadratic. "
   ]
  },
  {
   "cell_type": "code",
   "execution_count": 57,
   "metadata": {},
   "outputs": [
    {
     "data": {
      "text/html": [
       "<div>\n",
       "<style scoped>\n",
       "    .dataframe tbody tr th:only-of-type {\n",
       "        vertical-align: middle;\n",
       "    }\n",
       "\n",
       "    .dataframe tbody tr th {\n",
       "        vertical-align: top;\n",
       "    }\n",
       "\n",
       "    .dataframe thead th {\n",
       "        text-align: right;\n",
       "    }\n",
       "</style>\n",
       "<table border=\"1\" class=\"dataframe\">\n",
       "  <thead>\n",
       "    <tr style=\"text-align: right;\">\n",
       "      <th></th>\n",
       "      <th>country</th>\n",
       "      <th>date</th>\n",
       "      <th>GDP_capita</th>\n",
       "      <th>ed_att</th>\n",
       "      <th>inc_ineq</th>\n",
       "      <th>gdp_capita_squared</th>\n",
       "      <th>ed_att_squared</th>\n",
       "    </tr>\n",
       "  </thead>\n",
       "  <tbody>\n",
       "    <tr>\n",
       "      <th>121</th>\n",
       "      <td>Albania</td>\n",
       "      <td>2005-01-01</td>\n",
       "      <td>2673.786584</td>\n",
       "      <td>0.13</td>\n",
       "      <td>30.6</td>\n",
       "      <td>7.149135e+06</td>\n",
       "      <td>0.0169</td>\n",
       "    </tr>\n",
       "    <tr>\n",
       "      <th>187</th>\n",
       "      <td>Algeria</td>\n",
       "      <td>1995-01-01</td>\n",
       "      <td>1444.908036</td>\n",
       "      <td>0.14</td>\n",
       "      <td>35.3</td>\n",
       "      <td>2.087759e+06</td>\n",
       "      <td>0.0196</td>\n",
       "    </tr>\n",
       "    <tr>\n",
       "      <th>628</th>\n",
       "      <td>Argentina</td>\n",
       "      <td>1980-01-01</td>\n",
       "      <td>2738.284723</td>\n",
       "      <td>0.22</td>\n",
       "      <td>40.8</td>\n",
       "      <td>7.498203e+06</td>\n",
       "      <td>0.0484</td>\n",
       "    </tr>\n",
       "    <tr>\n",
       "      <th>643</th>\n",
       "      <td>Argentina</td>\n",
       "      <td>1995-01-01</td>\n",
       "      <td>7373.428246</td>\n",
       "      <td>0.30</td>\n",
       "      <td>48.9</td>\n",
       "      <td>5.436744e+07</td>\n",
       "      <td>0.0900</td>\n",
       "    </tr>\n",
       "    <tr>\n",
       "      <th>648</th>\n",
       "      <td>Argentina</td>\n",
       "      <td>2000-01-01</td>\n",
       "      <td>7669.273916</td>\n",
       "      <td>0.24</td>\n",
       "      <td>51.1</td>\n",
       "      <td>5.881776e+07</td>\n",
       "      <td>0.0576</td>\n",
       "    </tr>\n",
       "  </tbody>\n",
       "</table>\n",
       "</div>"
      ],
      "text/plain": [
       "       country       date   GDP_capita  ed_att  inc_ineq  gdp_capita_squared  \\\n",
       "121    Albania 2005-01-01  2673.786584    0.13      30.6        7.149135e+06   \n",
       "187    Algeria 1995-01-01  1444.908036    0.14      35.3        2.087759e+06   \n",
       "628  Argentina 1980-01-01  2738.284723    0.22      40.8        7.498203e+06   \n",
       "643  Argentina 1995-01-01  7373.428246    0.30      48.9        5.436744e+07   \n",
       "648  Argentina 2000-01-01  7669.273916    0.24      51.1        5.881776e+07   \n",
       "\n",
       "     ed_att_squared  \n",
       "121          0.0169  \n",
       "187          0.0196  \n",
       "628          0.0484  \n",
       "643          0.0900  \n",
       "648          0.0576  "
      ]
     },
     "execution_count": 57,
     "metadata": {},
     "output_type": "execute_result"
    }
   ],
   "source": [
    "df_wb['gdp_capita_squared'] = df_wb['GDP_capita']**2\n",
    "df_wb['ed_att_squared'] = df_wb['ed_att']**2\n",
    "df_wb.head()"
   ]
  },
  {
   "cell_type": "markdown",
   "metadata": {},
   "source": [
    "As can be seen, two new variables are added to the dataframe, i.e. the square of gdp per capita and the square of educational attainment.\n",
    "\n",
    "Now I start with the analysis of the relationship between income inequality and educational attainment. As discussed in the introduction, most scholars have tried to replicate the Kuznets curve. This will be the first thing I will do as well. The following specification will be estimated\n",
    "\n",
    "$$G_{it}=\\beta_0+\\beta_1Y_{it}+\\beta_2Y^2_{it}+\\mu_{it}$$\n",
    "\n",
    "where $G_{it}$ is the Gini coefficient for country $i$ in year $t$, $Y_{it}$ is income per capita for country $i$ in year $t$ and $Y^2_{it}$ is the square of income per capita for country $i$ in year $t$."
   ]
  },
  {
   "cell_type": "code",
   "execution_count": 50,
   "metadata": {
    "scrolled": true
   },
   "outputs": [
    {
     "data": {
      "text/html": [
       "<table class=\"simpletable\">\n",
       "<caption>OLS Regression Results</caption>\n",
       "<tr>\n",
       "  <th>Dep. Variable:</th>        <td>inc_ineq</td>     <th>  R-squared:         </th> <td>   0.257</td>\n",
       "</tr>\n",
       "<tr>\n",
       "  <th>Model:</th>                   <td>OLS</td>       <th>  Adj. R-squared:    </th> <td>   0.250</td>\n",
       "</tr>\n",
       "<tr>\n",
       "  <th>Method:</th>             <td>Least Squares</td>  <th>  F-statistic:       </th> <td>   34.32</td>\n",
       "</tr>\n",
       "<tr>\n",
       "  <th>Date:</th>             <td>Wed, 30 Jan 2019</td> <th>  Prob (F-statistic):</th> <td>1.60e-13</td>\n",
       "</tr>\n",
       "<tr>\n",
       "  <th>Time:</th>                 <td>16:49:01</td>     <th>  Log-Likelihood:    </th> <td> -714.12</td>\n",
       "</tr>\n",
       "<tr>\n",
       "  <th>No. Observations:</th>      <td>   201</td>      <th>  AIC:               </th> <td>   1434.</td>\n",
       "</tr>\n",
       "<tr>\n",
       "  <th>Df Residuals:</th>          <td>   198</td>      <th>  BIC:               </th> <td>   1444.</td>\n",
       "</tr>\n",
       "<tr>\n",
       "  <th>Df Model:</th>              <td>     2</td>      <th>                     </th>     <td> </td>   \n",
       "</tr>\n",
       "<tr>\n",
       "  <th>Covariance Type:</th>      <td>nonrobust</td>    <th>                     </th>     <td> </td>   \n",
       "</tr>\n",
       "</table>\n",
       "<table class=\"simpletable\">\n",
       "<tr>\n",
       "           <td></td>             <th>coef</th>     <th>std err</th>      <th>t</th>      <th>P>|t|</th>  <th>[0.025</th>    <th>0.975]</th>  \n",
       "</tr>\n",
       "<tr>\n",
       "  <th>const</th>              <td>   44.4066</td> <td>    0.814</td> <td>   54.569</td> <td> 0.000</td> <td>   42.802</td> <td>   46.011</td>\n",
       "</tr>\n",
       "<tr>\n",
       "  <th>GDP_capita</th>         <td>   -0.0005</td> <td> 8.14e-05</td> <td>   -5.700</td> <td> 0.000</td> <td>   -0.001</td> <td>   -0.000</td>\n",
       "</tr>\n",
       "<tr>\n",
       "  <th>gdp_capita_squared</th> <td>  3.34e-09</td> <td> 1.16e-09</td> <td>    2.869</td> <td> 0.005</td> <td> 1.04e-09</td> <td> 5.64e-09</td>\n",
       "</tr>\n",
       "</table>\n",
       "<table class=\"simpletable\">\n",
       "<tr>\n",
       "  <th>Omnibus:</th>       <td> 6.123</td> <th>  Durbin-Watson:     </th> <td>   0.809</td>\n",
       "</tr>\n",
       "<tr>\n",
       "  <th>Prob(Omnibus):</th> <td> 0.047</td> <th>  Jarque-Bera (JB):  </th> <td>   4.580</td>\n",
       "</tr>\n",
       "<tr>\n",
       "  <th>Skew:</th>          <td> 0.249</td> <th>  Prob(JB):          </th> <td>   0.101</td>\n",
       "</tr>\n",
       "<tr>\n",
       "  <th>Kurtosis:</th>      <td> 2.453</td> <th>  Cond. No.          </th> <td>1.91e+09</td>\n",
       "</tr>\n",
       "</table><br/><br/>Warnings:<br/>[1] Standard Errors assume that the covariance matrix of the errors is correctly specified.<br/>[2] The condition number is large, 1.91e+09. This might indicate that there are<br/>strong multicollinearity or other numerical problems."
      ],
      "text/plain": [
       "<class 'statsmodels.iolib.summary.Summary'>\n",
       "\"\"\"\n",
       "                            OLS Regression Results                            \n",
       "==============================================================================\n",
       "Dep. Variable:               inc_ineq   R-squared:                       0.257\n",
       "Model:                            OLS   Adj. R-squared:                  0.250\n",
       "Method:                 Least Squares   F-statistic:                     34.32\n",
       "Date:                Wed, 30 Jan 2019   Prob (F-statistic):           1.60e-13\n",
       "Time:                        16:49:01   Log-Likelihood:                -714.12\n",
       "No. Observations:                 201   AIC:                             1434.\n",
       "Df Residuals:                     198   BIC:                             1444.\n",
       "Df Model:                           2                                         \n",
       "Covariance Type:            nonrobust                                         \n",
       "======================================================================================\n",
       "                         coef    std err          t      P>|t|      [0.025      0.975]\n",
       "--------------------------------------------------------------------------------------\n",
       "const                 44.4066      0.814     54.569      0.000      42.802      46.011\n",
       "GDP_capita            -0.0005   8.14e-05     -5.700      0.000      -0.001      -0.000\n",
       "gdp_capita_squared   3.34e-09   1.16e-09      2.869      0.005    1.04e-09    5.64e-09\n",
       "==============================================================================\n",
       "Omnibus:                        6.123   Durbin-Watson:                   0.809\n",
       "Prob(Omnibus):                  0.047   Jarque-Bera (JB):                4.580\n",
       "Skew:                           0.249   Prob(JB):                        0.101\n",
       "Kurtosis:                       2.453   Cond. No.                     1.91e+09\n",
       "==============================================================================\n",
       "\n",
       "Warnings:\n",
       "[1] Standard Errors assume that the covariance matrix of the errors is correctly specified.\n",
       "[2] The condition number is large, 1.91e+09. This might indicate that there are\n",
       "strong multicollinearity or other numerical problems.\n",
       "\"\"\""
      ]
     },
     "execution_count": 50,
     "metadata": {},
     "output_type": "execute_result"
    }
   ],
   "source": [
    "import statsmodels.api as sm # import statsmodels \n",
    "\n",
    "X = df_wb[['GDP_capita','gdp_capita_squared']] \n",
    "y = df_wb[\"inc_ineq\"]\n",
    "X = sm.add_constant(X) ## let's add an intercept (beta_0) to our model\n",
    "\n",
    "\n",
    "model = sm.OLS(y, X).fit()\n",
    "predictions = model.predict(X)\n",
    "\n",
    "# Print out the statistics\n",
    "model.summary()"
   ]
  },
  {
   "cell_type": "markdown",
   "metadata": {},
   "source": [
    "The coefficients are both significant at a 1% confidence interval. However, the results show the opposite signs from what is expected considering the Kuznets curve. The curve I find is actually a U-curve, instead of an inversed U-curve, as the sign of $\\beta_1$ is negative and £\\beta_2$ is positive.\n",
    "\n",
    "Let's take a look at the graph to understand what happened."
   ]
  },
  {
   "cell_type": "code",
   "execution_count": 66,
   "metadata": {},
   "outputs": [
    {
     "data": {
      "image/png": "[encoded data removed]",
      "text/plain": [
       "<matplotlib.figure.Figure at 0x7fbbc8112ba8>"
      ]
     },
     "metadata": {},
     "output_type": "display_data"
    }
   ],
   "source": [
    "plt.subplot(2, 2, 1)\n",
    "plt.xlabel('GDP per capita')\n",
    "plt.ylabel('Income inequality')\n",
    "plt.scatter(df_wb.GDP_capita,df_wb.inc_ineq)\n",
    "plt.subplot(2, 2, 2)\n",
    "plt.scatter(df_wb.GDP_capita,df_wb.inc_ineq)\n",
    "axes = plt.gca()\n",
    "axes.set_xlim([0,15000])\n",
    "plt.xlabel('GDP per capita')\n",
    "plt.tight_layout()\n",
    "plt.show()"
   ]
  },
  {
   "cell_type": "markdown",
   "metadata": {},
   "source": [
    "As can be seen, some outliers with very high income caused the curve to become U-shaped. By looking only at the incomes up to 15,000$ we do observe the Kuznets curve. \n",
    "\n",
    "I also want to look at income inequality and educational attainment. Since it seems that the relation is quadratic, I will add the square of educational attainment. The estimation will be as follows\n",
    "\n",
    "$$G_{it}=\\beta_0+\\beta_1E_{it}+\\beta_2E^2_{it}+\\mu_{it}$$\n",
    "\n",
    "where $G_{it}$ is the Gini coefficient for country $i$ in year $t$, $E_{it}$ is educational attainment for country $i$ in year $t$ and $E^2_{it}$ is the square of educational attainment for country $i$ in year $t$."
   ]
  },
  {
   "cell_type": "code",
   "execution_count": 68,
   "metadata": {},
   "outputs": [
    {
     "data": {
      "text/html": [
       "<table class=\"simpletable\">\n",
       "<caption>OLS Regression Results</caption>\n",
       "<tr>\n",
       "  <th>Dep. Variable:</th>        <td>inc_ineq</td>     <th>  R-squared:         </th> <td>   0.171</td>\n",
       "</tr>\n",
       "<tr>\n",
       "  <th>Model:</th>                   <td>OLS</td>       <th>  Adj. R-squared:    </th> <td>   0.162</td>\n",
       "</tr>\n",
       "<tr>\n",
       "  <th>Method:</th>             <td>Least Squares</td>  <th>  F-statistic:       </th> <td>   20.38</td>\n",
       "</tr>\n",
       "<tr>\n",
       "  <th>Date:</th>             <td>Wed, 30 Jan 2019</td> <th>  Prob (F-statistic):</th> <td>8.94e-09</td>\n",
       "</tr>\n",
       "<tr>\n",
       "  <th>Time:</th>                 <td>17:32:41</td>     <th>  Log-Likelihood:    </th> <td> -725.22</td>\n",
       "</tr>\n",
       "<tr>\n",
       "  <th>No. Observations:</th>      <td>   201</td>      <th>  AIC:               </th> <td>   1456.</td>\n",
       "</tr>\n",
       "<tr>\n",
       "  <th>Df Residuals:</th>          <td>   198</td>      <th>  BIC:               </th> <td>   1466.</td>\n",
       "</tr>\n",
       "<tr>\n",
       "  <th>Df Model:</th>              <td>     2</td>      <th>                     </th>     <td> </td>   \n",
       "</tr>\n",
       "<tr>\n",
       "  <th>Covariance Type:</th>      <td>nonrobust</td>    <th>                     </th>     <td> </td>   \n",
       "</tr>\n",
       "</table>\n",
       "<table class=\"simpletable\">\n",
       "<tr>\n",
       "         <td></td>           <th>coef</th>     <th>std err</th>      <th>t</th>      <th>P>|t|</th>  <th>[0.025</th>    <th>0.975]</th>  \n",
       "</tr>\n",
       "<tr>\n",
       "  <th>const</th>          <td>   47.5295</td> <td>    1.419</td> <td>   33.505</td> <td> 0.000</td> <td>   44.732</td> <td>   50.327</td>\n",
       "</tr>\n",
       "<tr>\n",
       "  <th>ed_att</th>         <td>  -23.6026</td> <td>    5.252</td> <td>   -4.494</td> <td> 0.000</td> <td>  -33.959</td> <td>  -13.246</td>\n",
       "</tr>\n",
       "<tr>\n",
       "  <th>ed_att_squared</th> <td>   10.4459</td> <td>    3.873</td> <td>    2.697</td> <td> 0.008</td> <td>    2.807</td> <td>   18.084</td>\n",
       "</tr>\n",
       "</table>\n",
       "<table class=\"simpletable\">\n",
       "<tr>\n",
       "  <th>Omnibus:</th>       <td>12.508</td> <th>  Durbin-Watson:     </th> <td>   0.761</td>\n",
       "</tr>\n",
       "<tr>\n",
       "  <th>Prob(Omnibus):</th> <td> 0.002</td> <th>  Jarque-Bera (JB):  </th> <td>  11.026</td>\n",
       "</tr>\n",
       "<tr>\n",
       "  <th>Skew:</th>          <td> 0.498</td> <th>  Prob(JB):          </th> <td> 0.00403</td>\n",
       "</tr>\n",
       "<tr>\n",
       "  <th>Kurtosis:</th>      <td> 2.432</td> <th>  Cond. No.          </th> <td>    12.3</td>\n",
       "</tr>\n",
       "</table><br/><br/>Warnings:<br/>[1] Standard Errors assume that the covariance matrix of the errors is correctly specified."
      ],
      "text/plain": [
       "<class 'statsmodels.iolib.summary.Summary'>\n",
       "\"\"\"\n",
       "                            OLS Regression Results                            \n",
       "==============================================================================\n",
       "Dep. Variable:               inc_ineq   R-squared:                       0.171\n",
       "Model:                            OLS   Adj. R-squared:                  0.162\n",
       "Method:                 Least Squares   F-statistic:                     20.38\n",
       "Date:                Wed, 30 Jan 2019   Prob (F-statistic):           8.94e-09\n",
       "Time:                        17:32:41   Log-Likelihood:                -725.22\n",
       "No. Observations:                 201   AIC:                             1456.\n",
       "Df Residuals:                     198   BIC:                             1466.\n",
       "Df Model:                           2                                         \n",
       "Covariance Type:            nonrobust                                         \n",
       "==================================================================================\n",
       "                     coef    std err          t      P>|t|      [0.025      0.975]\n",
       "----------------------------------------------------------------------------------\n",
       "const             47.5295      1.419     33.505      0.000      44.732      50.327\n",
       "ed_att           -23.6026      5.252     -4.494      0.000     -33.959     -13.246\n",
       "ed_att_squared    10.4459      3.873      2.697      0.008       2.807      18.084\n",
       "==============================================================================\n",
       "Omnibus:                       12.508   Durbin-Watson:                   0.761\n",
       "Prob(Omnibus):                  0.002   Jarque-Bera (JB):               11.026\n",
       "Skew:                           0.498   Prob(JB):                      0.00403\n",
       "Kurtosis:                       2.432   Cond. No.                         12.3\n",
       "==============================================================================\n",
       "\n",
       "Warnings:\n",
       "[1] Standard Errors assume that the covariance matrix of the errors is correctly specified.\n",
       "\"\"\""
      ]
     },
     "execution_count": 68,
     "metadata": {},
     "output_type": "execute_result"
    }
   ],
   "source": [
    "import statsmodels.api as sm # import statsmodels \n",
    "\n",
    "X = df_wb[['ed_att','ed_att_squared']] \n",
    "y = df_wb[\"inc_ineq\"]\n",
    "X = sm.add_constant(X) ## let's add an intercept (beta_0) to our model\n",
    "\n",
    "\n",
    "model = sm.OLS(y, X).fit()\n",
    "predictions = model.predict(X)\n",
    "\n",
    "# Print out the statistics\n",
    "model.summary()"
   ]
  },
  {
   "cell_type": "markdown",
   "metadata": {},
   "source": [
    "Both coefficients are significant at a 1% confidence interval. The shape is an U-curve, as expected from the graphical analysis.\n",
    "Finally, I'd like to merge the previous two specifications to understand if income or education is a better predictor of inequality. Therefore the specification will be as follows\n",
    "\n",
    "$$G_{it}=\\beta_0+\\beta_1Y_{it}+\\beta_2Y^2_{it}+\\beta_3E_{it}+\\beta_4E^2_{it}+\\mu_{it}$$"
   ]
  },
  {
   "cell_type": "code",
   "execution_count": 70,
   "metadata": {},
   "outputs": [
    {
     "data": {
      "text/html": [
       "<table class=\"simpletable\">\n",
       "<caption>OLS Regression Results</caption>\n",
       "<tr>\n",
       "  <th>Dep. Variable:</th>        <td>inc_ineq</td>     <th>  R-squared:         </th> <td>   0.269</td>\n",
       "</tr>\n",
       "<tr>\n",
       "  <th>Model:</th>                   <td>OLS</td>       <th>  Adj. R-squared:    </th> <td>   0.255</td>\n",
       "</tr>\n",
       "<tr>\n",
       "  <th>Method:</th>             <td>Least Squares</td>  <th>  F-statistic:       </th> <td>   18.07</td>\n",
       "</tr>\n",
       "<tr>\n",
       "  <th>Date:</th>             <td>Wed, 30 Jan 2019</td> <th>  Prob (F-statistic):</th> <td>1.20e-12</td>\n",
       "</tr>\n",
       "<tr>\n",
       "  <th>Time:</th>                 <td>17:36:07</td>     <th>  Log-Likelihood:    </th> <td> -712.49</td>\n",
       "</tr>\n",
       "<tr>\n",
       "  <th>No. Observations:</th>      <td>   201</td>      <th>  AIC:               </th> <td>   1435.</td>\n",
       "</tr>\n",
       "<tr>\n",
       "  <th>Df Residuals:</th>          <td>   196</td>      <th>  BIC:               </th> <td>   1451.</td>\n",
       "</tr>\n",
       "<tr>\n",
       "  <th>Df Model:</th>              <td>     4</td>      <th>                     </th>     <td> </td>   \n",
       "</tr>\n",
       "<tr>\n",
       "  <th>Covariance Type:</th>      <td>nonrobust</td>    <th>                     </th>     <td> </td>   \n",
       "</tr>\n",
       "</table>\n",
       "<table class=\"simpletable\">\n",
       "<tr>\n",
       "           <td></td>             <th>coef</th>     <th>std err</th>      <th>t</th>      <th>P>|t|</th>  <th>[0.025</th>    <th>0.975]</th>  \n",
       "</tr>\n",
       "<tr>\n",
       "  <th>const</th>              <td>   46.3103</td> <td>    1.362</td> <td>   33.997</td> <td> 0.000</td> <td>   43.624</td> <td>   48.997</td>\n",
       "</tr>\n",
       "<tr>\n",
       "  <th>GDP_capita</th>         <td>   -0.0004</td> <td> 9.79e-05</td> <td>   -3.781</td> <td> 0.000</td> <td>   -0.001</td> <td>   -0.000</td>\n",
       "</tr>\n",
       "<tr>\n",
       "  <th>gdp_capita_squared</th> <td> 2.549e-09</td> <td> 1.25e-09</td> <td>    2.042</td> <td> 0.042</td> <td> 8.73e-11</td> <td> 5.01e-09</td>\n",
       "</tr>\n",
       "<tr>\n",
       "  <th>ed_att</th>             <td>   -9.3596</td> <td>    5.701</td> <td>   -1.642</td> <td> 0.102</td> <td>  -20.603</td> <td>    1.884</td>\n",
       "</tr>\n",
       "<tr>\n",
       "  <th>ed_att_squared</th>     <td>    4.7799</td> <td>    3.824</td> <td>    1.250</td> <td> 0.213</td> <td>   -2.761</td> <td>   12.321</td>\n",
       "</tr>\n",
       "</table>\n",
       "<table class=\"simpletable\">\n",
       "<tr>\n",
       "  <th>Omnibus:</th>       <td> 6.608</td> <th>  Durbin-Watson:     </th> <td>   0.806</td>\n",
       "</tr>\n",
       "<tr>\n",
       "  <th>Prob(Omnibus):</th> <td> 0.037</td> <th>  Jarque-Bera (JB):  </th> <td>   4.926</td>\n",
       "</tr>\n",
       "<tr>\n",
       "  <th>Skew:</th>          <td> 0.263</td> <th>  Prob(JB):          </th> <td>  0.0852</td>\n",
       "</tr>\n",
       "<tr>\n",
       "  <th>Kurtosis:</th>      <td> 2.443</td> <th>  Cond. No.          </th> <td>1.61e+10</td>\n",
       "</tr>\n",
       "</table><br/><br/>Warnings:<br/>[1] Standard Errors assume that the covariance matrix of the errors is correctly specified.<br/>[2] The condition number is large, 1.61e+10. This might indicate that there are<br/>strong multicollinearity or other numerical problems."
      ],
      "text/plain": [
       "<class 'statsmodels.iolib.summary.Summary'>\n",
       "\"\"\"\n",
       "                            OLS Regression Results                            \n",
       "==============================================================================\n",
       "Dep. Variable:               inc_ineq   R-squared:                       0.269\n",
       "Model:                            OLS   Adj. R-squared:                  0.255\n",
       "Method:                 Least Squares   F-statistic:                     18.07\n",
       "Date:                Wed, 30 Jan 2019   Prob (F-statistic):           1.20e-12\n",
       "Time:                        17:36:07   Log-Likelihood:                -712.49\n",
       "No. Observations:                 201   AIC:                             1435.\n",
       "Df Residuals:                     196   BIC:                             1451.\n",
       "Df Model:                           4                                         \n",
       "Covariance Type:            nonrobust                                         \n",
       "======================================================================================\n",
       "                         coef    std err          t      P>|t|      [0.025      0.975]\n",
       "--------------------------------------------------------------------------------------\n",
       "const                 46.3103      1.362     33.997      0.000      43.624      48.997\n",
       "GDP_capita            -0.0004   9.79e-05     -3.781      0.000      -0.001      -0.000\n",
       "gdp_capita_squared  2.549e-09   1.25e-09      2.042      0.042    8.73e-11    5.01e-09\n",
       "ed_att                -9.3596      5.701     -1.642      0.102     -20.603       1.884\n",
       "ed_att_squared         4.7799      3.824      1.250      0.213      -2.761      12.321\n",
       "==============================================================================\n",
       "Omnibus:                        6.608   Durbin-Watson:                   0.806\n",
       "Prob(Omnibus):                  0.037   Jarque-Bera (JB):                4.926\n",
       "Skew:                           0.263   Prob(JB):                       0.0852\n",
       "Kurtosis:                       2.443   Cond. No.                     1.61e+10\n",
       "==============================================================================\n",
       "\n",
       "Warnings:\n",
       "[1] Standard Errors assume that the covariance matrix of the errors is correctly specified.\n",
       "[2] The condition number is large, 1.61e+10. This might indicate that there are\n",
       "strong multicollinearity or other numerical problems.\n",
       "\"\"\""
      ]
     },
     "execution_count": 70,
     "metadata": {},
     "output_type": "execute_result"
    }
   ],
   "source": [
    "import statsmodels.api as sm # import statsmodels \n",
    "\n",
    "X = df_wb[['GDP_capita','gdp_capita_squared','ed_att','ed_att_squared']] \n",
    "y = df_wb[\"inc_ineq\"]\n",
    "X = sm.add_constant(X) ## let's add an intercept (beta_0) to our model\n",
    "\n",
    "\n",
    "model = sm.OLS(y, X).fit()\n",
    "predictions = model.predict(X)\n",
    "\n",
    "# Print out the statistics\n",
    "model.summary()"
   ]
  },
  {
   "cell_type": "markdown",
   "metadata": {},
   "source": [
    "While both income per capita and its square remain statistically significant, educational attainment loses its predictory power. This means that it is likely that income already captures most of the effect of educational attainment, and that therefore educational attainment has an effect on income inequality that passes through income per capita. "
   ]
  },
  {
   "cell_type": "markdown",
   "metadata": {},
   "source": [
    "# 4. Concluding remarks"
   ]
  },
  {
   "cell_type": "markdown",
   "metadata": {},
   "source": [
    "In this project I have discussed from different perspectives the relation between income inequality and educational attainment. I first developed a model which explains some forces that link these two variables. Using the foundations of Mincer (1958), I showed how differences in earnings among age groups and education levels can shape the distribution of incomes accross the labor force. My model predicts a positive relationship between educational attainment and income inequality, measured through the Gini coefficient. The simplicity of the model did not allow for a control of other forces in play in real life, but still captured an important relation between ageing work population and income inequality. It also allowed me to show my acquired Python skills by playing with variables, figures, and loops.\n",
    "\n",
    "In the second part of my project I showed how educational attainment and income inequality relate in empirical data. I first found that, counterintuitively, income inequality is better predicted by educational attainment of the same year instead of earlier years. I also found that the predictions of my model turned out to be wrong, as income inequality is negatively related to educational attainment. Then, I studied through OLS regressions how educational attainment, income inequality and income per capita relate to eachother. I find that GDP per capita is a better predictor of income inequality than educational attainment is, and that the effect of educational attainment on income inequality likely acts through income inequality. \n",
    "\n",
    "I would like to take advantage of the last lines of my project to thank professsor J. Boone and in general Tilburg University for the chance to use Datacamp and for this fun but above all very useful and appreciated course. I am very happy to know the basics of the Python language as it is a great skill and opens new possibilties."
   ]
  },
  {
   "cell_type": "markdown",
   "metadata": {},
   "source": [
    "# Literature"
   ]
  },
  {
   "cell_type": "markdown",
   "metadata": {},
   "source": [
    "Ahluwalia, Montek S. 1976. “Inequality, Poverty and Development” Journal of Development Economics, 3, 307–342.\n",
    "\n",
    "Kumhof, M., Rancière, R. 2011. \"Inequality, Leverage and Crises\"\n",
    "\n",
    "Kuznets, S. 1955. “Economic Growth and Income Inequality” American Economic Review, 45, 1–28.\n",
    "\n",
    "Mincer, Jacob. 1958. “Investment in Human Capital and Personal Income Distribution” Journal of Political Economy, 66, 281–302.\n",
    "\n",
    "Nielsen, F., Alderson, A. S., 1997. “The Kuznets Curve and the Great U‐Turn: Income Inequality in U.S Countries, 1970 to 1990” American Sociological Review, 62, 12–33.\n",
    "\n",
    "Park, K. H., 1996. \"Educational expansion and educational inequality on income distribution\", Economics of Education Review, 15 (1): 51-58\n",
    "\n",
    "Piketty, T., 2015. \"About Capital in the Twenty-First Century.\" American Economic Review, 105 (5): 48-53\n",
    "\n",
    "Rajan, R., 2010. “Fault Lines” *Princeton University Press, Princeton, NJ*"
   ]
  }
 ],
 "metadata": {
  "kernelspec": {
   "display_name": "Python 3",
   "language": "python",
   "name": "python3"
  },
  "language_info": {
   "codemirror_mode": {
    "name": "ipython",
    "version": 3
   },
   "file_extension": ".py",
   "mimetype": "text/x-python",
   "name": "python",
   "nbconvert_exporter": "python",
   "pygments_lexer": "ipython3",
   "version": "3.5.3"
  }
 },
 "nbformat": 4,
 "nbformat_minor": 2
}
